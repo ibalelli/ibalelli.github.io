{
 "cells": [
  {
   "cell_type": "markdown",
   "source": [
    "# Publications markdown generator for academicpages\n",
    "\n",
    "Takes a TSV of publications with metadata and converts them for use with [academicpages.github.io](academicpages.github.io). This is an interactive Jupyter notebook ([see more info here](http://jupyter-notebook-beginner-guide.readthedocs.io/en/latest/what_is_jupyter.html)). The core python code is also in `publications.py`. Run either from the `markdown_generator` folder after replacing `publications.tsv` with one containing your data.\n",
    "\n",
    "TODO: Make this work with BibTex and other databases of citations, rather than Stuart's non-standard TSV format and citation style.\n"
   ],
   "metadata": {
    "deletable": true,
    "editable": true
   }
  },
  {
   "cell_type": "markdown",
   "source": [
    "## Data format\n",
    "\n",
    "The TSV needs to have the following columns: pub_date, title, venue, excerpt, citation, site_url, and paper_url, with a header at the top. \n",
    "\n",
    "- `excerpt` and `paper_url` can be blank, but the others must have values. \n",
    "- `pub_date` must be formatted as YYYY-MM-DD.\n",
    "- `url_slug` will be the descriptive part of the .md file and the permalink URL for the page about the paper. The .md file will be `YYYY-MM-DD-[url_slug].md` and the permalink will be `https://[yourdomain]/publications/YYYY-MM-DD-[url_slug]`\n",
    "\n",
    "This is how the raw file looks (it doesn't look pretty, use a spreadsheet or other program to edit and create)."
   ],
   "metadata": {}
  },
  {
   "cell_type": "code",
   "execution_count": 1,
   "source": [
    "!cat publications.tsv"
   ],
   "outputs": [
    {
     "output_type": "stream",
     "name": "stdout",
     "text": [
      "pub_date;title;venue;excerpt;citation;url_slug;paper_url\n",
      "2016-01-01;Mathematical foundations of antibody aﬃnity maturation;Hal;PhD Thesis manuscript.;Balelli, I. (2016). Mathematical foundations of antibody aﬃnity maturation (Doctoral dissertation, Université Sorbonne Paris Cité).;2016-1;http://irenebalelli.github.io/files/papapers/Irene_Balelli_these.pdf\n",
      "2018-01-01;Branching random walks on binary strings for evolutionary processes in adaptive immunity;arXiv;In this article, we study branching random walks on graphs modeling division-mutation processes inspired by adaptive immunity. We apply the theory of expander graphs on mutation rules in evolutionary processes and obtain estimates for the cover times of the branching random walk.;Balelli, I., Milišić, V., & Wainrib, G. (2018). Random walks on binary strings applied to the somatic hypermutation of B-cells. <i>Mathematical biosciences<i>, 300, 168-186. ;\t2018-2 ; https://arxiv.org/pdf/1607.00927v1.pdf\n",
      "2018-01-01;Random walks on binary strings applied to the somatic hypermutation of B-cells;Mathematical biosciences;This paper establish a mathematical framework based on random walks on graph to introduce and evaluate the mutation mechanism at the basis of the evolutionary process leading to antibody maturation.;Balelli, I., Milišić, V., & Wainrib, G. (2018). Random walks on binary strings applied to the somatic hypermutation of B-cells. <i>Mathematical biosciences<i>, 300, 168-186.;2018-1;http://irenebalelli.github.io/files/papapers/randomW_hyper.pdf\n",
      "2019-01-01;Multi-type Galton-Watson processes with affinity-dependent selection applied to antibody affinity maturation;Bulletin of mathematical biology;Inspired by antibody affinity maturation, the interactions between division, mutation and selection are analysed, assuming that the observed population can be classified according to fitness levels with respect to a target trait. An optimal selection rate has been identified, which allows to maximize the number of high affinity B-cells selected at a given generation.;Balelli, I., Milišić, V., & Wainrib, G. (2019). Multi-type galton–watson processes with affinity-dependent selection applied to antibody affinity maturation. <i>Bulletin of mathematical biology<i>, 81(3), 830-868.;2019-1;http://irenebalelli.github.io/files/papapers/multi_type_GW.pdf\n",
      "2019-01-01;Dynamics of the humoral immune response to a prime-boost Ebola vaccine: quantification and sources of variation;Journal of virology;In this paper data from three phase 1 trials of a 2-doses vaccine against Ebola virus performed by the EBOVAC1 Consortium are analyzed. A mathematical model based on ODEs is used to characterize the dynamics of the humoral response after the second dose immunization up to 1 year of followup: it allows to estimate the durability of the antibody response and the influence of different factors on the dynamics of the humoral response.;Pasin, C., Balelli, I., Van Effelterre, T., et al. (2019). Dynamics of the humoral immune response to a prime-boost Ebola vaccine: quantification and sources of variation. <i>Journal of virology<i>, 93(18), e00579-19.;2019-2;https://journals.asm.org/doi/pdf/10.1128/jvi.00579-19\n",
      "2019-01-01;Viral rebound kinetics following single and combination immunotherapy for HIV/SIV;BioRxiv;In this paper we conduct a detailed analysis of the kinetics of viral rebound after immunotherapy in the context of HIV infection. We use mathematical models combined with rigorous statistical fitting to quantify the impact of these interventions on viral dynamics, and provide a framework for understanding the relative contributions of different mechanisms for preventing viral rebound and highlight the multifaceted roles of TLR7-agonists for HIV/SIV cure.;Prague, M., Gerold, J. M., Balelli, I., et al. (2019). Viral rebound kinetics following single and combination immunotherapy for HIV/SIV. <i>BioRxiv<i>, 700401.;2019-3;https://www.biorxiv.org/content/10.1101/700401v2\n",
      "2020-01-01;A model for establishment, maintenance and reactivation of the immune response after vaccination against Ebola virus;Journal of theoretical biology;This article describes the biological motivation and the development of a mechanistic model of the humoral immune response to multiple vaccine injections. A theoretical analysis is proposed, as well as a calibration with clinical data generated by the EBOVAC project.;Balelli, I., Pasin, C., Prague, M., et al. (2020). A model for establishment, maintenance and reactivation of the immune response after vaccination against Ebola virus. <i>Journal of theoretical biology<i>, 495, 110254.;2020-1;https://www.sciencedirect.com/science/article/pii/S0022519320301090\n",
      "2021-01-01;Parameter estimation in nonlinear mixed effect models based on ordinary differential equations: an optimal control approach;arXiv;We present a parameter estimation method for nonlinear mixed effect models based on ordinary differential equations (NLME-ODEs). The proposed method aims at regularizing the estimation problem in presence of model misspecifications, practical identifiability issues and unknown initial conditions, using a control theory approach.;Clairon, Q., Pasin, C., Balelli, I., et al. (2021). Parameter estimation in nonlinear mixed effect models based on ordinary differential equations: an optimal control approach. <i>arXiv<i> preprint arXiv:2102.11543.;2021-2;https://arxiv.org/pdf/2102.11543.pdf\n",
      "2021-01-01;A Probabilistic Framework for Modeling the Variability Across Federated Datasets of Heterogeneous Multi-View Observations;Lecture Notes in Computer Science;In this paper we propose a new Bayesian framework for federated learning of heterogeneous multi-modal biomedical data. An application to a large database (including medical imaging and clinical scores) on patients with Alzheimer disease shows that the proposed model allows high quality data reconstruction, compared to current auto-encoding methods and federated learning schemes.;Balelli I., Silva S., Lorenzi M. (2021). A Probabilistic Framework for Modeling the Variability Across Federated Datasets of Heterogeneous Multi-View Observations. In: Feragen A., Sommer S., Schnabel J., Nielsen M. (eds) <i>Information Processing in Medical Imaging<i>. IPMI 2021. <i>Lecture Notes in Computer Science<i>, vol 12729. Springer, Cham.;2021-1;https://doi.org/10.1007/978-3-030-78191-0_54;2021-1;https://hal.archives-ouvertes.fr/hal-03152886/\n",
      "2021-01-01;A Differentially Private Probabilistic Framework for Modeling the Variability Across Federated Datasets of Heterogeneous Multi-View Observations;Submitted to Journal of Machine Learning for Biomedical Imaging;This paper is an extension of the work presented at the Information Processing in Medical Imaging 2021 conference, where we introduce formal differential privacy guarantees compatibly with the proposed Expectation Maximization optimization scheme.;Balelli I., Silva S., Lorenzi M. (2021). A Differentially Private Probabilistic Framework for Modeling the Variability Across Federated Datasets of Heterogeneous Multi-View Observations. <i>Submitted to Journal of Machine Learning for Biomedical Imaging<i>.;2021-3;http://irenebalelli.github.io/files/papapers/Balelli_MELBA_IPMI2021.pdf"
     ]
    }
   ],
   "metadata": {
    "collapsed": false
   }
  },
  {
   "cell_type": "markdown",
   "source": [
    "## Import pandas\n",
    "\n",
    "We are using the very handy pandas library for dataframes."
   ],
   "metadata": {}
  },
  {
   "cell_type": "code",
   "execution_count": 2,
   "source": [
    "import pandas as pd"
   ],
   "outputs": [],
   "metadata": {
    "collapsed": true,
    "deletable": true,
    "editable": true
   }
  },
  {
   "cell_type": "markdown",
   "source": [
    "## Import TSV\n",
    "\n",
    "Pandas makes this easy with the read_csv function. We are using a TSV, so we specify the separator as a tab, or `\\t`.\n",
    "\n",
    "I found it important to put this data in a tab-separated values format, because there are a lot of commas in this kind of data and comma-separated values can get messed up. However, you can modify the import statement, as pandas also has read_excel(), read_json(), and others."
   ],
   "metadata": {}
  },
  {
   "cell_type": "code",
   "execution_count": 4,
   "source": [
    "publications = pd.read_csv(\"publications.tsv\", sep=\";\", header=0)\n",
    "publications\n"
   ],
   "outputs": [
    {
     "output_type": "execute_result",
     "data": {
      "text/html": [
       "<div>\n",
       "<style scoped>\n",
       "    .dataframe tbody tr th:only-of-type {\n",
       "        vertical-align: middle;\n",
       "    }\n",
       "\n",
       "    .dataframe tbody tr th {\n",
       "        vertical-align: top;\n",
       "    }\n",
       "\n",
       "    .dataframe thead th {\n",
       "        text-align: right;\n",
       "    }\n",
       "</style>\n",
       "<table border=\"1\" class=\"dataframe\">\n",
       "  <thead>\n",
       "    <tr style=\"text-align: right;\">\n",
       "      <th></th>\n",
       "      <th>pub_date</th>\n",
       "      <th>title</th>\n",
       "      <th>venue</th>\n",
       "      <th>excerpt</th>\n",
       "      <th>citation</th>\n",
       "      <th>url_slug</th>\n",
       "      <th>paper_url</th>\n",
       "    </tr>\n",
       "  </thead>\n",
       "  <tbody>\n",
       "    <tr>\n",
       "      <th>0</th>\n",
       "      <td>2016-01-01</td>\n",
       "      <td>Mathematical foundations of antibody aﬃnity ma...</td>\n",
       "      <td>Hal</td>\n",
       "      <td>PhD Thesis manuscript.</td>\n",
       "      <td>Balelli, I. (2016). Mathematical foundations o...</td>\n",
       "      <td>2016-1</td>\n",
       "      <td>http://irenebalelli.github.io/files/papapers/I...</td>\n",
       "    </tr>\n",
       "    <tr>\n",
       "      <th>1</th>\n",
       "      <td>2018-01-01</td>\n",
       "      <td>Branching random walks on binary strings for e...</td>\n",
       "      <td>arXiv</td>\n",
       "      <td>In this article, we study branching random wal...</td>\n",
       "      <td>Balelli, I., Milišić, V., &amp; Wainrib, G. (2018)...</td>\n",
       "      <td>\\t2018-2</td>\n",
       "      <td>https://arxiv.org/pdf/1607.00927v1.pdf</td>\n",
       "    </tr>\n",
       "    <tr>\n",
       "      <th>2</th>\n",
       "      <td>2018-01-01</td>\n",
       "      <td>Random walks on binary strings applied to the ...</td>\n",
       "      <td>Mathematical biosciences</td>\n",
       "      <td>This paper establish a mathematical framework ...</td>\n",
       "      <td>Balelli, I., Milišić, V., &amp; Wainrib, G. (2018)...</td>\n",
       "      <td>2018-1</td>\n",
       "      <td>http://irenebalelli.github.io/files/papapers/r...</td>\n",
       "    </tr>\n",
       "    <tr>\n",
       "      <th>3</th>\n",
       "      <td>2019-01-01</td>\n",
       "      <td>Multi-type Galton-Watson processes with affini...</td>\n",
       "      <td>Bulletin of mathematical biology</td>\n",
       "      <td>Inspired by antibody affinity maturation, the ...</td>\n",
       "      <td>Balelli, I., Milišić, V., &amp; Wainrib, G. (2019)...</td>\n",
       "      <td>2019-1</td>\n",
       "      <td>http://irenebalelli.github.io/files/papapers/m...</td>\n",
       "    </tr>\n",
       "    <tr>\n",
       "      <th>4</th>\n",
       "      <td>2019-01-01</td>\n",
       "      <td>Dynamics of the humoral immune response to a p...</td>\n",
       "      <td>Journal of virology</td>\n",
       "      <td>In this paper data from three phase 1 trials o...</td>\n",
       "      <td>Pasin, C., Balelli, I., Van Effelterre, T., et...</td>\n",
       "      <td>2019-2</td>\n",
       "      <td>https://journals.asm.org/doi/pdf/10.1128/jvi.0...</td>\n",
       "    </tr>\n",
       "    <tr>\n",
       "      <th>5</th>\n",
       "      <td>2019-01-01</td>\n",
       "      <td>Viral rebound kinetics following single and co...</td>\n",
       "      <td>BioRxiv</td>\n",
       "      <td>In this paper we conduct a detailed analysis o...</td>\n",
       "      <td>Prague, M., Gerold, J. M., Balelli, I., et al....</td>\n",
       "      <td>2019-3</td>\n",
       "      <td>https://www.biorxiv.org/content/10.1101/700401v2</td>\n",
       "    </tr>\n",
       "    <tr>\n",
       "      <th>6</th>\n",
       "      <td>2020-01-01</td>\n",
       "      <td>A model for establishment, maintenance and rea...</td>\n",
       "      <td>Journal of theoretical biology</td>\n",
       "      <td>This article describes the biological motivati...</td>\n",
       "      <td>Balelli, I., Pasin, C., Prague, M., et al. (20...</td>\n",
       "      <td>2020-1</td>\n",
       "      <td>https://www.sciencedirect.com/science/article/...</td>\n",
       "    </tr>\n",
       "    <tr>\n",
       "      <th>7</th>\n",
       "      <td>2021-01-01</td>\n",
       "      <td>Parameter estimation in nonlinear mixed effect...</td>\n",
       "      <td>arXiv</td>\n",
       "      <td>We present a parameter estimation method for n...</td>\n",
       "      <td>Clairon, Q., Pasin, C., Balelli, I., et al. (2...</td>\n",
       "      <td>2021-2</td>\n",
       "      <td>https://arxiv.org/pdf/2102.11543.pdf</td>\n",
       "    </tr>\n",
       "    <tr>\n",
       "      <th>8</th>\n",
       "      <td>2021-01-01</td>\n",
       "      <td>A Probabilistic Framework for Modeling the Var...</td>\n",
       "      <td>Lecture Notes in Computer Science</td>\n",
       "      <td>In this paper we propose a new Bayesian framew...</td>\n",
       "      <td>Balelli I., Silva S., Lorenzi M. (2021). A Pro...</td>\n",
       "      <td>2021-1</td>\n",
       "      <td>https://hal.archives-ouvertes.fr/hal-03152886/</td>\n",
       "    </tr>\n",
       "    <tr>\n",
       "      <th>9</th>\n",
       "      <td>2021-01-01</td>\n",
       "      <td>A Differentially Private Probabilistic Framewo...</td>\n",
       "      <td>Submitted to Journal of Machine Learning for B...</td>\n",
       "      <td>This paper is an extension of the work present...</td>\n",
       "      <td>Balelli I., Silva S., Lorenzi M. (2021). A Dif...</td>\n",
       "      <td>2021-3</td>\n",
       "      <td>http://irenebalelli.github.io/files/papapers/B...</td>\n",
       "    </tr>\n",
       "  </tbody>\n",
       "</table>\n",
       "</div>"
      ],
      "text/plain": [
       "     pub_date                                              title  \\\n",
       "0  2016-01-01  Mathematical foundations of antibody aﬃnity ma...   \n",
       "1  2018-01-01  Branching random walks on binary strings for e...   \n",
       "2  2018-01-01  Random walks on binary strings applied to the ...   \n",
       "3  2019-01-01  Multi-type Galton-Watson processes with affini...   \n",
       "4  2019-01-01  Dynamics of the humoral immune response to a p...   \n",
       "5  2019-01-01  Viral rebound kinetics following single and co...   \n",
       "6  2020-01-01  A model for establishment, maintenance and rea...   \n",
       "7  2021-01-01  Parameter estimation in nonlinear mixed effect...   \n",
       "8  2021-01-01  A Probabilistic Framework for Modeling the Var...   \n",
       "9  2021-01-01  A Differentially Private Probabilistic Framewo...   \n",
       "\n",
       "                                               venue  \\\n",
       "0                                                Hal   \n",
       "1                                              arXiv   \n",
       "2                           Mathematical biosciences   \n",
       "3                   Bulletin of mathematical biology   \n",
       "4                                Journal of virology   \n",
       "5                                            BioRxiv   \n",
       "6                     Journal of theoretical biology   \n",
       "7                                              arXiv   \n",
       "8                  Lecture Notes in Computer Science   \n",
       "9  Submitted to Journal of Machine Learning for B...   \n",
       "\n",
       "                                             excerpt  \\\n",
       "0                             PhD Thesis manuscript.   \n",
       "1  In this article, we study branching random wal...   \n",
       "2  This paper establish a mathematical framework ...   \n",
       "3  Inspired by antibody affinity maturation, the ...   \n",
       "4  In this paper data from three phase 1 trials o...   \n",
       "5  In this paper we conduct a detailed analysis o...   \n",
       "6  This article describes the biological motivati...   \n",
       "7  We present a parameter estimation method for n...   \n",
       "8  In this paper we propose a new Bayesian framew...   \n",
       "9  This paper is an extension of the work present...   \n",
       "\n",
       "                                            citation   url_slug  \\\n",
       "0  Balelli, I. (2016). Mathematical foundations o...     2016-1   \n",
       "1  Balelli, I., Milišić, V., & Wainrib, G. (2018)...  \\t2018-2    \n",
       "2  Balelli, I., Milišić, V., & Wainrib, G. (2018)...     2018-1   \n",
       "3  Balelli, I., Milišić, V., & Wainrib, G. (2019)...     2019-1   \n",
       "4  Pasin, C., Balelli, I., Van Effelterre, T., et...     2019-2   \n",
       "5  Prague, M., Gerold, J. M., Balelli, I., et al....     2019-3   \n",
       "6  Balelli, I., Pasin, C., Prague, M., et al. (20...     2020-1   \n",
       "7  Clairon, Q., Pasin, C., Balelli, I., et al. (2...     2021-2   \n",
       "8  Balelli I., Silva S., Lorenzi M. (2021). A Pro...     2021-1   \n",
       "9  Balelli I., Silva S., Lorenzi M. (2021). A Dif...     2021-3   \n",
       "\n",
       "                                           paper_url  \n",
       "0  http://irenebalelli.github.io/files/papapers/I...  \n",
       "1             https://arxiv.org/pdf/1607.00927v1.pdf  \n",
       "2  http://irenebalelli.github.io/files/papapers/r...  \n",
       "3  http://irenebalelli.github.io/files/papapers/m...  \n",
       "4  https://journals.asm.org/doi/pdf/10.1128/jvi.0...  \n",
       "5   https://www.biorxiv.org/content/10.1101/700401v2  \n",
       "6  https://www.sciencedirect.com/science/article/...  \n",
       "7               https://arxiv.org/pdf/2102.11543.pdf  \n",
       "8     https://hal.archives-ouvertes.fr/hal-03152886/  \n",
       "9  http://irenebalelli.github.io/files/papapers/B...  "
      ]
     },
     "metadata": {},
     "execution_count": 4
    }
   ],
   "metadata": {
    "collapsed": false,
    "deletable": true,
    "editable": true
   }
  },
  {
   "cell_type": "markdown",
   "source": [
    "## Escape special characters\n",
    "\n",
    "YAML is very picky about how it takes a valid string, so we are replacing single and double quotes (and ampersands) with their HTML encoded equivilents. This makes them look not so readable in raw format, but they are parsed and rendered nicely."
   ],
   "metadata": {}
  },
  {
   "cell_type": "code",
   "execution_count": 20,
   "source": [
    "html_escape_table = {\n",
    "    \"&\": \"&amp;\",\n",
    "    '\"': \"&quot;\",\n",
    "    \"'\": \"&apos;\"\n",
    "    }\n",
    "\n",
    "def html_escape(text):\n",
    "    \"\"\"Produce entities within text.\"\"\"\n",
    "    return \"\".join(html_escape_table.get(c,c) for c in text)"
   ],
   "outputs": [],
   "metadata": {
    "collapsed": true,
    "deletable": true,
    "editable": true
   }
  },
  {
   "cell_type": "markdown",
   "source": [
    "## Creating the markdown files\n",
    "\n",
    "This is where the heavy lifting is done. This loops through all the rows in the TSV dataframe, then starts to concatentate a big string (```md```) that contains the markdown for each type. It does the YAML metadata first, then does the description for the individual page."
   ],
   "metadata": {}
  },
  {
   "cell_type": "code",
   "execution_count": 21,
   "source": [
    "import os\n",
    "for row, item in publications.iterrows():\n",
    "    \n",
    "    md_filename = str(item.pub_date) + \"-\" + item.url_slug + \".md\"\n",
    "    html_filename = str(item.pub_date) + \"-\" + item.url_slug\n",
    "    year = item.pub_date[:4]\n",
    "    \n",
    "    ## YAML variables\n",
    "    \n",
    "    md = \"---\\ntitle: \\\"\"   + item.title + '\"\\n'\n",
    "    \n",
    "    md += \"\"\"collection: publications\"\"\"\n",
    "    \n",
    "    md += \"\"\"\\npermalink: /publication/\"\"\" + html_filename\n",
    "    \n",
    "    if len(str(item.excerpt)) > 5:\n",
    "        md += \"\\nexcerpt: '\" + html_escape(item.excerpt) + \"'\"\n",
    "    \n",
    "    md += \"\\ndate: \" + str(item.pub_date) \n",
    "    \n",
    "    md += \"\\nvenue: '\" + html_escape(item.venue) + \"'\"\n",
    "    \n",
    "    if len(str(item.paper_url)) > 5:\n",
    "        md += \"\\npaperurl: '\" + item.paper_url + \"'\"\n",
    "    \n",
    "    md += \"\\ncitation: '\" + html_escape(item.citation) + \"'\"\n",
    "    \n",
    "    md += \"\\n---\"\n",
    "    \n",
    "    ## Markdown description for individual page\n",
    "        \n",
    "    if len(str(item.excerpt)) > 5:\n",
    "        md += \"\\n\" + html_escape(item.excerpt) + \"\\n\"\n",
    "    \n",
    "    if len(str(item.paper_url)) > 5:\n",
    "        md += \"\\n[Download paper here](\" + item.paper_url + \")\\n\" \n",
    "        \n",
    "    md += \"\\nRecommended citation: \" + item.citation\n",
    "    \n",
    "    md_filename = os.path.basename(md_filename)\n",
    "       \n",
    "    with open(\"../_publications/\" + md_filename, 'w') as f:\n",
    "        f.write(md)"
   ],
   "outputs": [],
   "metadata": {
    "collapsed": false,
    "deletable": true,
    "editable": true
   }
  },
  {
   "cell_type": "markdown",
   "source": [
    "These files are in the publications directory, one directory below where we're working from."
   ],
   "metadata": {}
  },
  {
   "cell_type": "code",
   "execution_count": 22,
   "source": [
    "!ls ../_publications/"
   ],
   "outputs": [
    {
     "output_type": "stream",
     "name": "stdout",
     "text": [
      "2016-01-01-2016-1.md   2019-01-01-2019-2.md   2021-01-01-2020-2.md\n",
      "2016_1.md              2019-01-01-2019-3.md   2021-01-01-2021-1.md\n",
      "2018-01-01-?2018-2 .md 2019_1.md              2021-01-01-2021-3.md\n",
      "2018-01-01-2018-1.md   2019_2.md              2021_1.md\n",
      "2018_1.md              2019_3.md              2021_2.md\n",
      "2018_2.md              2020-01-01-2020-1.md   2021_3.md\n",
      "2019-01-01-2019-1.md   2020_1.md\n"
     ]
    }
   ],
   "metadata": {
    "collapsed": false,
    "deletable": true,
    "editable": true
   }
  },
  {
   "cell_type": "code",
   "execution_count": 7,
   "source": [
    "!cat ../_publications/2009-10-01-paper-title-number-1.md"
   ],
   "outputs": [
    {
     "output_type": "stream",
     "name": "stdout",
     "text": [
      "---\r\n",
      "title: \"Paper Title Number 1\"\r\n",
      "collection: publications\r\n",
      "permalink: /publication/2009-10-01-paper-title-number-1\r\n",
      "excerpt: 'This paper is about the number 1. The number 2 is left for future work.'\r\n",
      "date: 2009-10-01\r\n",
      "venue: 'Journal 1'\r\n",
      "paperurl: 'http://academicpages.github.io/files/paper1.pdf'\r\n",
      "citation: 'Your Name, You. (2009). &quot;Paper Title Number 1.&quot; <i>Journal 1</i>. 1(1).'\r\n",
      "---\r\n",
      "This paper is about the number 1. The number 2 is left for future work.\r\n",
      "\r\n",
      "[Download paper here](http://academicpages.github.io/files/paper1.pdf)\r\n",
      "\r\n",
      "Recommended citation: Your Name, You. (2009). \"Paper Title Number 1.\" <i>Journal 1</i>. 1(1)."
     ]
    }
   ],
   "metadata": {
    "collapsed": false,
    "deletable": true,
    "editable": true
   }
  },
  {
   "cell_type": "code",
   "execution_count": null,
   "source": [],
   "outputs": [],
   "metadata": {
    "collapsed": true,
    "deletable": true,
    "editable": true
   }
  }
 ],
 "metadata": {
  "kernelspec": {
   "name": "python3",
   "display_name": "Python 3.7.7 64-bit"
  },
  "language_info": {
   "codemirror_mode": {
    "name": "ipython",
    "version": 3
   },
   "file_extension": ".py",
   "mimetype": "text/x-python",
   "name": "python",
   "nbconvert_exporter": "python",
   "pygments_lexer": "ipython3",
   "version": "3.7.7"
  },
  "interpreter": {
   "hash": "aee8b7b246df8f9039afb4144a1f6fd8d2ca17a180786b69acc140d282b71a49"
  }
 },
 "nbformat": 4,
 "nbformat_minor": 2
}
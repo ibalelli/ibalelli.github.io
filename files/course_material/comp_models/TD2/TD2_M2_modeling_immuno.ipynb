{
 "cells": [
  {
   "cell_type": "markdown",
   "metadata": {
    "id": "nanRaq1UBALG"
   },
   "source": [
    "# Génération de données synthétiques"
   ]
  },
  {
   "cell_type": "code",
   "execution_count": 1,
   "metadata": {},
   "outputs": [],
   "source": [
    "import numpy as np\n",
    "import pandas as pd\n",
    "from math import exp, log, log10, sqrt\n",
    "from scipy.integrate import odeint\n",
    "from scipy.stats import norm, lognorm\n",
    "\n",
    "# The Complete model\n",
    "def deriv(y, t, phiS, phiL, deltaS, deltaL, deltaAb):\n",
    "    dydt = phiS * exp(-deltaS * t) + phiL * exp(-deltaL * t) - deltaAb * y\n",
    "    return dydt\n",
    "\n",
    "def analytic(A0, time, phiS, phiL, deltaS, deltaL, deltaAb):\n",
    "    y = []\n",
    "    for t in time:\n",
    "        A=(A0-phiS/(deltaAb-deltaS)-phiL/(deltaAb-deltaL))*exp(-deltaAb*t)\\\n",
    "        +phiS/(deltaAb-deltaS)*exp(-deltaS*t)+phiL/(deltaAb-deltaL)*exp(-deltaL*t)\n",
    "        y.append(A)\n",
    "    return y\n",
    "\n",
    "def sample_id_params(pop_params,groupHav720 = False):\n",
    "    # sample parameters from their distributions\n",
    "    A0 = norm.rvs(model_params['A0_mean'],model_params['A0_std'])\n",
    "    phiS = exp(norm.rvs(model_params['ln_phiS_mean'],model_params['ln_phiS_std']))\n",
    "    deltaAb = exp(norm.rvs(model_params['ln_deltaAb_mean'],model_params['ln_deltaAb_std']))\n",
    "    \n",
    "    if groupHav720:    \n",
    "        phiL = exp(norm.rvs(model_params['ln_phiL_mean'],model_params['ln_phiL_std'])+\n",
    "                   model_params['beta_phiL_Hav720'])\n",
    "        deltaS = exp(norm.rvs(model_params['ln_deltaS_mean'],model_params['ln_deltaS_std'])+\n",
    "                   model_params['beta_deltaS_Hav720'])\n",
    "        deltaL = exp(norm.rvs(model_params['ln_deltaL_mean'],model_params['ln_deltaL_std'])+\n",
    "                   model_params['beta_deltaL_Hav720'])\n",
    "    else:\n",
    "        phiL = exp(norm.rvs(model_params['ln_phiL_mean'],model_params['ln_phiL_std']))\n",
    "        deltaS = exp(norm.rvs(model_params['ln_deltaS_mean'],model_params['ln_deltaS_std']))\n",
    "        deltaL = exp(norm.rvs(model_params['ln_deltaL_mean'],model_params['ln_deltaL_std']))\n",
    "        \n",
    "    return A0, (phiS, phiL, deltaS, deltaL, deltaAb)"
   ]
  },
  {
   "cell_type": "code",
   "execution_count": 2,
   "metadata": {
    "id": "J4O4b48cBXqe"
   },
   "outputs": [],
   "source": [
    "# True parameters: we suppose that they are log-normal distributed\n",
    "ln_phiS_mean = log(1)\n",
    "ln_phiS_std = 0.2\n",
    "\n",
    "ln_phiL_mean = log(0.54)\n",
    "ln_phiL_std = 0.1\n",
    "\n",
    "ln_deltaS_mean = log(0.069)\n",
    "ln_deltaS_std = 0.5\n",
    "\n",
    "ln_deltaL_mean = log(1.8e-6)\n",
    "ln_deltaL_std = 1\n",
    "\n",
    "ln_deltaAb_mean = log(0.79)\n",
    "ln_deltaAb_std = 0.1\n",
    "\n",
    "beta_phiL_Hav720 = -1\n",
    "beta_deltaS_Hav720 = -0.5\n",
    "beta_deltaL_Hav720 = 3\n",
    "\n",
    "# Initial conditions on A0 is supposed to be normally distributed:\n",
    "A0_mean = 8\n",
    "A0_std = 0.1\n",
    "\n",
    "# Finally, we will add an additive error to log_10 transformed data. The error follows a standard gaussian,\n",
    "# distribution with variance:\n",
    "sigma2 = 0.01\n",
    "\n",
    "model_params = {'ln_phiS_mean':ln_phiS_mean,'ln_phiL_mean':ln_phiL_mean,'ln_deltaS_mean':ln_deltaS_mean,\n",
    "               'ln_deltaL_mean':ln_deltaL_mean,'ln_deltaAb_mean':ln_deltaAb_mean,\n",
    "               'ln_phiS_std':ln_phiS_std,'ln_phiL_std':ln_phiL_std,'ln_deltaS_std':ln_deltaS_std,\n",
    "               'ln_deltaL_std':ln_deltaL_std,'ln_deltaAb_std':ln_deltaAb_std,\n",
    "               'beta_phiL_Hav720':beta_phiL_Hav720,'beta_deltaS_Hav720':beta_deltaS_Hav720,\n",
    "               'beta_deltaL_Hav720':beta_deltaL_Hav720,'A0_mean':A0_mean,'A0_std':A0_std}\n",
    "\n",
    "# Time points: we suppose that all participants have observation at all time points. Note: here time is in months.\n",
    "time = np.linspace(0,36,10)\n",
    "    \n",
    "# We are going to generate 100 patients form HavrixTM 1440 dataset and 100 patients from HavrixTM 720 dataset\n",
    "N1, N2 = 100, 100\n",
    "\n",
    "data = []\n",
    "for n in range(N1+N2):\n",
    "    if n < N1:\n",
    "        A0, id_params = sample_id_params(model_params,groupHav720 = False)\n",
    "        error = norm.rvs(0,sqrt(sigma2))\n",
    "        phiS, phiL, deltaS, deltaL, deltaAb = id_params\n",
    "        y_t = analytic(A0, time, phiS, phiL, deltaS, deltaL, deltaAb)\n",
    "        #ret = odeint(deriv, A0, time, args=id_params)\n",
    "        #y_t = ret.T[0]\n",
    "        for t in range(len(y_t)):\n",
    "            data.append([n+1,time[t],log10(y_t[t])+error,A0,0])\n",
    "    else:\n",
    "        A0, id_params = sample_id_params(model_params,groupHav720 = True)\n",
    "        error = norm.rvs(0,sqrt(sigma2))\n",
    "        phiS, phiL, deltaS, deltaL, deltaAb = id_params\n",
    "        y_t = analytic(A0, time, phiS, phiL, deltaS, deltaL, deltaAb)\n",
    "        #ret = odeint(deriv, A0, time, args=id_params)\n",
    "        #y_t = ret.T[0]\n",
    "        for t in range(len(y_t)):\n",
    "            data.append([n+1,time[t],log10(y_t[t])+error,A0,1])\n",
    "            \n",
    "dataframe = pd.DataFrame(data, columns=['ID', 'TIME', 'OBS', 'OBS_0', 'GROUP'])\n",
    "\n",
    "# Save the obtained dataframe as simulated_AB_response.csv\n",
    "dataframe.to_csv('simulated_AB_response.csv',sep=',',index=False)"
   ]
  },
  {
   "cell_type": "code",
   "execution_count": null,
   "metadata": {},
   "outputs": [],
   "source": [
    "####if you are using Colab:\n",
    "from google.colab import files \n",
    "files.download('simulated_AB_response.csv')"
   ]
  }
 ],
 "metadata": {
  "colab": {
   "collapsed_sections": [],
   "name": "TD1_M2_modeling_epidemio.ipynb",
   "provenance": []
  },
  "interpreter": {
   "hash": "aee8b7b246df8f9039afb4144a1f6fd8d2ca17a180786b69acc140d282b71a49"
  },
  "kernelspec": {
   "display_name": "Python 3 (ipykernel)",
   "language": "python",
   "name": "python3"
  },
  "language_info": {
   "codemirror_mode": {
    "name": "ipython",
    "version": 3
   },
   "file_extension": ".py",
   "mimetype": "text/x-python",
   "name": "python",
   "nbconvert_exporter": "python",
   "pygments_lexer": "ipython3",
   "version": "3.9.1"
  }
 },
 "nbformat": 4,
 "nbformat_minor": 2
}

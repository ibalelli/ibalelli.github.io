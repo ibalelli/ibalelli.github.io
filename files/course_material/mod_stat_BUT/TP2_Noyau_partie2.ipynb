{
 "cells": [
  {
   "cell_type": "markdown",
   "metadata": {},
   "source": [
    "# <center>**TP2**</center>"
   ]
  },
  {
   "cell_type": "markdown",
   "metadata": {},
   "source": [
    "## **Partie II.** Estimation de la fenêtre optimale.\n",
    "\n",
    "Dans ce TP nous allons essayer d'estimer la fenêtre optimale pour notre exemple."
   ]
  },
  {
   "cell_type": "code",
   "execution_count": null,
   "metadata": {},
   "outputs": [],
   "source": [
    "# imports\n",
    "\n",
    "import numpy as np # linear algebra\n",
    "import pandas as pd # datasets\n",
    "# libraries and options for plots\n",
    "import seaborn as sns\n",
    "import matplotlib.pyplot as plt\n",
    "plt.style.use('ggplot')"
   ]
  },
  {
   "cell_type": "markdown",
   "metadata": {},
   "source": [
    "**0.** On télécharge à nouveau le dataset, avec la fonction ``load_wine()``. "
   ]
  },
  {
   "cell_type": "code",
   "execution_count": null,
   "metadata": {},
   "outputs": [],
   "source": [
    "# Load of the dataset from sklearn, and visualisation of the first rows\n",
    "\n",
    "from sklearn.datasets import load_wine\n",
    "data, target = load_wine(return_X_y=True, as_frame=True)\n",
    "data['target'] = target\n",
    "  \n",
    "# DISPLAY FIRST 5 RECORDS OF THE \n",
    "# DATAFRAME\n",
    "data.head()"
   ]
  },
  {
   "cell_type": "markdown",
   "metadata": {},
   "source": [
    "### Fenêtre optimale par grid search\n",
    "\n",
    "**1.** Determiner le $\\nu$ optimale pour cette application, dans un intervalle ``[0.05,1]``, en utilisant un noyau Gaussien. Pour cela, vous pouvez utiliser la fonction [``GridSearchCV``](https://scikit-learn.org/stable/modules/generated/sklearn.model_selection.GridSearchCV.html) de ``sklearn.model_selection``. Faire un plot avec l'estimation trouvée."
   ]
  },
  {
   "cell_type": "code",
   "execution_count": null,
   "metadata": {},
   "outputs": [],
   "source": [
    "from sklearn.neighbors import KernelDensity\n",
    "from sklearn.model_selection import GridSearchCV\n",
    "\n",
    "np_data = data.color_intensity.to_numpy()[:, np.newaxis]\n",
    "\n",
    "# On définit ici l'éspace sur lequel on veut se focaliser\n",
    "bandwidth = np.arange(0.05, 1, .05)\n",
    "\n",
    "# definir l'estimateur qui vous souhaitez optimiser, et le paramètre à optimiser avec le grid search\n",
    "\n",
    "\n",
    "# fit gread search to the dataset and use the result to create the optimal kde estimation\n",
    "\n",
    "\n",
    "\n",
    "\n",
    "print(f'La fenetre optimale par grid search est {round(nu_grid, 2)}')\n",
    "\n",
    "\n",
    "\n",
    "# Plot (histogramme et densité)\n",
    "\n",
    "\n",
    "\n"
   ]
  },
  {
   "cell_type": "code",
   "execution_count": null,
   "metadata": {},
   "outputs": [],
   "source": []
  },
  {
   "cell_type": "code",
   "execution_count": null,
   "metadata": {},
   "outputs": [],
   "source": []
  },
  {
   "cell_type": "markdown",
   "metadata": {},
   "source": [
    "## Fenêtre optimale par validation croisée"
   ]
  },
  {
   "cell_type": "markdown",
   "metadata": {},
   "source": [
    "**2.** Ecrire un algorithme qui permet de déterminer la fenêtre optimale par validation croisée, en suivant la méthode vue en cours, pour les kernels suivant : gaussien, epanechnikov, triangulaire et uniforme. Representer l'estimation obtenue. "
   ]
  },
  {
   "cell_type": "code",
   "execution_count": null,
   "metadata": {},
   "outputs": [],
   "source": []
  },
  {
   "cell_type": "code",
   "execution_count": null,
   "metadata": {},
   "outputs": [],
   "source": []
  },
  {
   "cell_type": "code",
   "execution_count": null,
   "metadata": {},
   "outputs": [],
   "source": [
    "# Calcul et plot\n",
    "plt.tight_layout()"
   ]
  },
  {
   "cell_type": "markdown",
   "metadata": {},
   "source": [
    "**3.** Qu'est ce qu'il se passe en modifiant le noyau ? Testez"
   ]
  },
  {
   "cell_type": "code",
   "execution_count": null,
   "metadata": {},
   "outputs": [],
   "source": []
  },
  {
   "cell_type": "markdown",
   "metadata": {},
   "source": [
    "## Fenêtre optimale par la règle de Silverman"
   ]
  },
  {
   "cell_type": "markdown",
   "metadata": {},
   "source": [
    "**4.** Même chose pour l'estimation de la fenêtre optimale en utilisant la règle de Silverman."
   ]
  },
  {
   "cell_type": "code",
   "execution_count": null,
   "metadata": {},
   "outputs": [],
   "source": []
  },
  {
   "cell_type": "code",
   "execution_count": null,
   "metadata": {},
   "outputs": [],
   "source": []
  },
  {
   "cell_type": "markdown",
   "metadata": {},
   "source": [
    "**5.** Ces règle sont implementées et disponibles à la fois dans ``sklearn`` et dans ``statsmodels``. Cherchez et testez."
   ]
  },
  {
   "cell_type": "code",
   "execution_count": null,
   "metadata": {},
   "outputs": [],
   "source": []
  },
  {
   "cell_type": "code",
   "execution_count": null,
   "metadata": {},
   "outputs": [],
   "source": []
  }
 ],
 "metadata": {
  "kernelspec": {
   "display_name": "Python 3 (ipykernel)",
   "language": "python",
   "name": "python3"
  },
  "language_info": {
   "codemirror_mode": {
    "name": "ipython",
    "version": 3
   },
   "file_extension": ".py",
   "mimetype": "text/x-python",
   "name": "python",
   "nbconvert_exporter": "python",
   "pygments_lexer": "ipython3",
   "version": "3.10.9"
  }
 },
 "nbformat": 4,
 "nbformat_minor": 4
}

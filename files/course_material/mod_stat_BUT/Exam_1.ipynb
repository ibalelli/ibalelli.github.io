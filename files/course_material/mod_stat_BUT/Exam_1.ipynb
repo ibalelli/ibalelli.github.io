{
 "cells": [
  {
   "cell_type": "markdown",
   "metadata": {},
   "source": [
    "**Nom :**\n",
    "\n",
    "**Prénom :**"
   ]
  },
  {
   "cell_type": "markdown",
   "metadata": {},
   "source": [
    "# <center>**Modélisation statistique avancée - Contrôle**</center>\n",
    "### <center>20 Décembre 2023</center>\n",
    "\n",
    "<center><a href=\"mailto:irene.balelli@inria.fr\">irene.balelli@inria.fr</a></center>"
   ]
  },
  {
   "cell_type": "markdown",
   "metadata": {},
   "source": [
    "## **Partie I. Questions de cours** "
   ]
  },
  {
   "cell_type": "markdown",
   "metadata": {},
   "source": [
    "**Q1.** Décrire les avantages et inconvenients d'un approche statistique non paramètrique versus un approche paramètrique."
   ]
  },
  {
   "cell_type": "markdown",
   "metadata": {},
   "source": []
  },
  {
   "cell_type": "markdown",
   "metadata": {},
   "source": [
    "**Q2.** Quels paramètres doivent être fixés pour réaliser une estimation de la densité par histogrammes ? Comment peuvent-ils affecter le résultat ?"
   ]
  },
  {
   "cell_type": "markdown",
   "metadata": {},
   "source": []
  },
  {
   "cell_type": "markdown",
   "metadata": {},
   "source": [
    "Soit $K(x):=a(1-x^2)^2\\mathbb{I}_{[-1,1]}(x)$, où $\\mathbb{I}_{[-1,1]}(x)$ denote la fonction indicatrice, *i.e.* $\\mathbb{I}_{[-1,1]}(x)=1$ si $x\\in[-1,1]$, 0 sinon, et $a\\in\\mathbb{R}$. Nous souhaitons proposer $K$ comme fonction noyau.\n",
    "\n",
    "**Q3.** $K$ est bien une fonction symétrique ?"
   ]
  },
  {
   "cell_type": "markdown",
   "metadata": {},
   "source": []
  },
  {
   "cell_type": "markdown",
   "metadata": {},
   "source": [
    "**Q4.** Déterminer $a$ tel que $K$ soit une fonction de densité."
   ]
  },
  {
   "cell_type": "markdown",
   "metadata": {},
   "source": []
  },
  {
   "cell_type": "markdown",
   "metadata": {},
   "source": [
    "**Bonus.** Démontrer que $R(K):=\\int_{\\mathbb{R}}(K(x))^2dx=\\frac{5}{7}$."
   ]
  },
  {
   "cell_type": "markdown",
   "metadata": {},
   "source": []
  },
  {
   "cell_type": "markdown",
   "metadata": {},
   "source": [
    "## **Partie II. Application** "
   ]
  },
  {
   "cell_type": "markdown",
   "metadata": {},
   "source": [
    "Soit $U$ une variable aléatoire à valeurs dans $\\{1,2,3\\}$ telle que:\n",
    "\\begin{equation}\n",
    "\\begin{cases}\n",
    "P(U=1)=p_1 \\\\\n",
    "P(U=2)=p_2 \\\\\n",
    "P(U=3)=p_3\n",
    "\\end{cases}\n",
    "\\end{equation}\n",
    "avec $p_i>0, i=1,\\dots,3$ et $p_1+p_2+p_3=1$.\n",
    "Soit $X$ une variable dépendante de $U$ et distribuée de la manière suivante :\n",
    "\\begin{equation}\n",
    "X|U\\sim\\begin{cases}\n",
    "\\mathcal{N}(\\mu_1=3,\\sigma_1=p_1)\\textrm{ si $U=1$} \\\\\n",
    "\\mathcal{N}(\\mu_2=6,\\sigma_2=p_2)\\textrm{ si $U=2$} \\\\\n",
    "\\mathcal{N}(\\mu_3=7,\\sigma_3=p_3)\\textrm{ si $U=3$}\n",
    "\\end{cases}\n",
    "\\end{equation}\n",
    "On peut donc montrer que la variable $X$ a pour densité :\n",
    "\\begin{equation}\n",
    "f_X(x)=p_1\\psi(\\mu_1,\\sigma_1)+p_2\\psi(\\mu_2,\\sigma_2)+p_3\\psi(\\mu_3,\\sigma_3),\n",
    "\\end{equation}\n",
    "où $\\psi(\\mu,\\sigma)$ est la fonction de densité d'une variable gaussienne de moyenne $\\mu$ et déviation standard $\\sigma$,\n",
    "\\begin{equation}\n",
    "\\psi(\\mu,\\sigma)=\\frac{1}{\\sqrt{2\\pi\\sigma}}e^{-\\frac{1}{2}\\left(\\frac{x-\\mu}{\\sigma}\\right)^2}\n",
    "\\end{equation}\n",
    "\n",
    "**1.** Choisir 3 valeurs opportuns pour les quantités $p_1, p_2$ et $p_3$ et générer un échantillon de taille $N=500$, $\\mathcal{D}_{500}$, suivant la loi de $X$."
   ]
  },
  {
   "cell_type": "code",
   "execution_count": null,
   "metadata": {},
   "outputs": [],
   "source": []
  },
  {
   "cell_type": "code",
   "execution_count": null,
   "metadata": {},
   "outputs": [],
   "source": []
  },
  {
   "cell_type": "markdown",
   "metadata": {},
   "source": [
    "**2.** Representer sur une figure l'estimation de la densité de $\\mathcal D_{500}$ par histogrammes, $\\hat f_b^{\\textrm{Hist}}$, avec un nombre de bins $b=5,10,20,50$. Quelle choix de $b$ vous semble le plus adaptée à votre échantillon ?"
   ]
  },
  {
   "cell_type": "code",
   "execution_count": null,
   "metadata": {},
   "outputs": [],
   "source": []
  },
  {
   "cell_type": "code",
   "execution_count": null,
   "metadata": {},
   "outputs": [],
   "source": []
  },
  {
   "cell_type": "markdown",
   "metadata": {},
   "source": [
    "**3.** Soit $K(x):=\\frac{15}{16}(1-x^2)^2\\mathbb{I}_{[-1,1]}(x)$. Définir une fonction qui permette de calculer pour tout $x\\in\\mathbb R$ la fonction suivante :\n",
    "\\begin{equation}\n",
    "\\hat f_{\\nu}^K(x):=\\frac{1}{N\\nu}\\sum_{i=1}^N K\\left(\\frac{x-x_i}{\\nu}\\right),\n",
    "\\end{equation}\n",
    "pour un $N$-échantillon $\\mathcal D_N=\\{x_1,\\dots,x_N\\}$ et un $\\nu\\in\\mathbb R$ donnés. Qu'est-ce que $f_{\\nu}^K(x)$ répresente ?"
   ]
  },
  {
   "cell_type": "code",
   "execution_count": null,
   "metadata": {},
   "outputs": [],
   "source": []
  },
  {
   "cell_type": "code",
   "execution_count": null,
   "metadata": {},
   "outputs": [],
   "source": []
  },
  {
   "cell_type": "markdown",
   "metadata": {},
   "source": []
  },
  {
   "cell_type": "markdown",
   "metadata": {},
   "source": [
    "**4.** Choisir une des méthodes vues en cours pour déterminer le $\\nu$ optimal d'un estimateur à noyau, et l'utiliser pour déterminer le meilleur choix de $\\nu$ pour $\\hat f_{\\nu}^K$ et pour l'échantillon $\\mathcal D_{500}$ généré au point **1**."
   ]
  },
  {
   "cell_type": "code",
   "execution_count": null,
   "metadata": {},
   "outputs": [],
   "source": []
  },
  {
   "cell_type": "code",
   "execution_count": null,
   "metadata": {},
   "outputs": [],
   "source": []
  },
  {
   "cell_type": "markdown",
   "metadata": {},
   "source": [
    "**5.** Sur une même figure, répresenter $\\hat f_b^{\\mathrm{Hist}}$ et $\\hat f_{\\nu}^K$. Utiliser la valeur de $b$ reteue au point **2** at la valuer de $\\nu$ retenue au point **4** pour $\\hat f_b^{\\mathrm{Hist}}$ et $\\hat f_{\\nu}^K$ respectivement. Commentez."
   ]
  },
  {
   "cell_type": "code",
   "execution_count": null,
   "metadata": {},
   "outputs": [],
   "source": []
  },
  {
   "cell_type": "code",
   "execution_count": null,
   "metadata": {},
   "outputs": [],
   "source": []
  },
  {
   "cell_type": "markdown",
   "metadata": {},
   "source": []
  },
  {
   "cell_type": "markdown",
   "metadata": {},
   "source": [
    "**Bonus.** Reproduire la même figure qu'au point **5** et rajouter aussi $f_X$. Quel estimateur vous semble-t-il mieux adapté ?"
   ]
  },
  {
   "cell_type": "code",
   "execution_count": null,
   "metadata": {},
   "outputs": [],
   "source": []
  },
  {
   "cell_type": "code",
   "execution_count": null,
   "metadata": {},
   "outputs": [],
   "source": []
  },
  {
   "cell_type": "markdown",
   "metadata": {},
   "source": []
  }
 ],
 "metadata": {
  "kernelspec": {
   "display_name": "Python 3 (ipykernel)",
   "language": "python",
   "name": "python3"
  },
  "language_info": {
   "codemirror_mode": {
    "name": "ipython",
    "version": 3
   },
   "file_extension": ".py",
   "mimetype": "text/x-python",
   "name": "python",
   "nbconvert_exporter": "python",
   "pygments_lexer": "ipython3",
   "version": "3.10.9"
  }
 },
 "nbformat": 4,
 "nbformat_minor": 4
}

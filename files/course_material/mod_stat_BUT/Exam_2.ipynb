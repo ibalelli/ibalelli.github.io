{
 "cells": [
  {
   "cell_type": "markdown",
   "metadata": {},
   "source": [
    "# <center>**Modélisation statistique avancée - Contrôle**</center>\n",
    "### <center>20 Janvier 2025</center>\n",
    "\n",
    "<center><a href=\"mailto:irene.balelli@inria.fr\">irene.balelli@inria.fr</a></center>"
   ]
  },
  {
   "cell_type": "markdown",
   "metadata": {},
   "source": [
    "## **Partie I. Questions de cours** "
   ]
  },
  {
   "cell_type": "markdown",
   "metadata": {},
   "source": [
    "**1.** Expliquez l'idée de l'estimation de la densité avec les $k$-plus-proches voisins.  Comment le choix de $k$ influence-t-elle l'estimation de la densité ?"
   ]
  },
  {
   "cell_type": "markdown",
   "metadata": {},
   "source": []
  },
  {
   "cell_type": "markdown",
   "metadata": {},
   "source": [
    "**2.** Qu'est-ce qu'un régressogramme et comment est-il utilisé pour estimer une fonction de régression non paramétrique ?"
   ]
  },
  {
   "cell_type": "markdown",
   "metadata": {},
   "source": []
  },
  {
   "cell_type": "markdown",
   "metadata": {},
   "source": [
    "**3.** Quels sont les avantages de la régression non paramétrique par rapport à la régression linéaire ?"
   ]
  },
  {
   "cell_type": "code",
   "execution_count": null,
   "metadata": {},
   "outputs": [],
   "source": []
  },
  {
   "cell_type": "markdown",
   "metadata": {},
   "source": [
    "Soit $K(x):=\\frac{\\pi}{4}\\cos{\\left(\\frac{\\pi}{2}x\\right)}\\mathbb{I}_{[-1,1]}(x)$, où $\\mathbb{I}_{[-1,1]}(x)$ denote la fonction indicatrice, *i.e.* $\\mathbb{I}_{[-1,1]}(x)=1$ si $x\\in[-1,1]$, 0 sinon. \n",
    "\n",
    "**4.** $K$ est-elle bien une fonction de densité ? Démontrer.\n",
    "\n",
    "*Rappel.* $\\frac{d\\sin(x)}{dx}=\\cos(x)$; $\\frac{d\\cos(x)}{dx}=-\\sin(x)$"
   ]
  },
  {
   "cell_type": "markdown",
   "metadata": {},
   "source": []
  },
  {
   "cell_type": "markdown",
   "metadata": {},
   "source": [
    "**Bonus.** Représenter $K(x)$ dans un intervalle symétrique per rapport à l'origine."
   ]
  },
  {
   "cell_type": "code",
   "execution_count": null,
   "metadata": {},
   "outputs": [],
   "source": []
  },
  {
   "cell_type": "markdown",
   "metadata": {},
   "source": [
    "## **Partie II. Application** "
   ]
  },
  {
   "cell_type": "markdown",
   "metadata": {},
   "source": [
    "Soit $Y$ une variable aléatoire dépendante de la variable aléatoire $X$ de la façon suivante :\n",
    "\n",
    "$$g(x):=\\mathbb E[Y|X=x]=10^{-4}(x+40)^3\\exp{\\left(\\frac{-x+40}{20}\\right)}$$\n",
    "\n",
    "**1.** A l'aide de cette fonction moyenne, générer un dataset $\\mathcal D_{N}$ contenant $N=200$ observations $(x_i,y_i)$ pour $x_1,\\dots,x_N\\in[0,100]$ et en supposant pour chaque $y_i$ un bruit gaussien centré de variance $\\sigma^2=20$. Dans une même figure représentez la vrai fonction moyenne et les données."
   ]
  },
  {
   "cell_type": "code",
   "execution_count": null,
   "metadata": {},
   "outputs": [],
   "source": []
  },
  {
   "cell_type": "code",
   "execution_count": null,
   "metadata": {},
   "outputs": [],
   "source": []
  },
  {
   "cell_type": "markdown",
   "metadata": {},
   "source": [
    "**2.** Soit $K(x):=\\frac{\\pi}{4}\\cos{\\left(\\frac{\\pi}{2}x\\right)}\\mathbb{I}_{[-1,1]}(x)$. Écrire explicitement la formule qui donne la régression par noyau $K$, puis l'implémenter. Vous pouvez définir une `classe` ou utiliser des fonctions."
   ]
  },
  {
   "cell_type": "markdown",
   "metadata": {},
   "source": []
  },
  {
   "cell_type": "code",
   "execution_count": null,
   "metadata": {},
   "outputs": [],
   "source": []
  },
  {
   "cell_type": "markdown",
   "metadata": {},
   "source": [
    "**3.** Testez plusieurs valeurs de la fenêtre $\\nu$ en comparant avec la vrai fonction moyenne: laquelle vous semble plus adaptée ? Qu'est ce qu'il se passe si $\\nu$ dévient très grand ?"
   ]
  },
  {
   "cell_type": "code",
   "execution_count": null,
   "metadata": {},
   "outputs": [],
   "source": []
  },
  {
   "cell_type": "code",
   "execution_count": null,
   "metadata": {},
   "outputs": [],
   "source": []
  },
  {
   "cell_type": "markdown",
   "metadata": {},
   "source": [
    "Nous souhaitons proposer une méthode automatique pour estimer la valeur optimale de $\\nu$. Pour cela, nous souhaitons évaluer l’erreur quadratique intégrée moyenne :\n",
    "$$\\textrm{MISE}(\\nu)=\\int_{\\mathbb R}\\mathbb E\\left[\\left(\\hat g_{\\nu}^K(x)-g(x)\\right)^2|\\mathcal D_{N}\\right]dx$$\n",
    "\n",
    "Soit $\\mathcal D_{N,i}$ le dataset d'entrainement initial, d'où on a enlevé le $i$-eme couple, $(x_i,y_i)$. Soit $\\hat g_{\\nu,i}^K$ l'estimateur construit à partir de ce dataset incomplet. Un estimateur de $\\textrm{MISE}(\\nu)$, $\\widehat{\\textrm{MISE}}(\\nu)$ peut alors être définit comme suit :\n",
    "\n",
    "$$\\widehat{\\textrm{MISE}}(\\nu):=\\frac{1}{N}\\sum_{i=1}^N(y_i-\\hat g_{\\nu,i}^K(x_i))^2$$\n",
    "\n",
    "Un choix “optimal” de $\\nu$ est alors obtenu par minimisation de $\\widehat{\\textrm{MISE}}(\\nu)$:\n",
    "\n",
    "$$\\nu^{\\mathrm{opt}}=\\textrm{argmin}_{\\nu>0}(\\widehat{\\textrm{MISE}}(\\nu))$$"
   ]
  },
  {
   "cell_type": "markdown",
   "metadata": {},
   "source": [
    "**4.** Implementer une méthode iterative pour pouvoir déterminer $\\nu^{\\textrm{opt}}$ (avec une `class`ou une/plusieurs fonctions) :\n",
    "\n",
    "* Donné : dataset $\\mathcal D_N$, noyau $K$, un vecteur `V` contenant un certain nombre de valeurs possibles $\\nu$ à tester.\n",
    "* Initialiser $\\nu^{\\textrm{opt}}=$ `V[0]` et $\\widehat{\\textrm{MISE}}^{\\textrm{opt}}=\\widehat{\\textrm{MISE}}$(`V[0]`).\n",
    "* Itérer sur les valeurs $\\nu$ dans `V` pour minimiser $\\widehat{\\textrm{MISE}}$.\n",
    "* Resultat : $\\nu^{\\textrm{opt}}, \\widehat{\\textrm{MISE}}^{\\textrm{opt}}$\n",
    "\n",
    "Grâce à cette méthode déterminer le $\\nu$ optimale pour la régression avec le noyau $K$ donné: vous pouvez considérer l'intervalle `[5,20]` pour la recherche de $\\nu$. Montrer graphiquement l'évolution de $\\widehat{\\textrm{MISE}}(\\nu)$ pour tout $\\nu$ testé. Représenter sur une même figure les données, la vrai fonction de régression, et son estimation avec le noyau $K$ et sa fenêtre optimale."
   ]
  },
  {
   "cell_type": "code",
   "execution_count": null,
   "metadata": {},
   "outputs": [],
   "source": []
  },
  {
   "cell_type": "code",
   "execution_count": null,
   "metadata": {},
   "outputs": [],
   "source": []
  },
  {
   "cell_type": "code",
   "execution_count": null,
   "metadata": {},
   "outputs": [],
   "source": []
  },
  {
   "cell_type": "code",
   "execution_count": null,
   "metadata": {},
   "outputs": [],
   "source": []
  },
  {
   "cell_type": "markdown",
   "metadata": {},
   "source": [
    "**5.** Commentez la qualité de cette regression à l'aide des résiduelles, que vous représenterez sous forme d'histogramme. Est-ce que une régression linéaire serait adapté dans ce cas ?"
   ]
  },
  {
   "cell_type": "code",
   "execution_count": null,
   "metadata": {},
   "outputs": [],
   "source": []
  },
  {
   "cell_type": "code",
   "execution_count": null,
   "metadata": {},
   "outputs": [],
   "source": []
  },
  {
   "cell_type": "markdown",
   "metadata": {},
   "source": [
    "**Bonus.** La méthode proposé au point **4.** pour déterminer le $\\nu$ optimale pour la regression avec noyaux peut s'appliquer aussi pour déterminer le $k$ optimale pour la régression avec $k$-plus-proches-voisins. Implémentez-la et comparez  cette estimation avec celle obtenue avec le noyau $K$."
   ]
  },
  {
   "cell_type": "code",
   "execution_count": null,
   "metadata": {},
   "outputs": [],
   "source": []
  },
  {
   "cell_type": "code",
   "execution_count": null,
   "metadata": {},
   "outputs": [],
   "source": []
  },
  {
   "cell_type": "code",
   "execution_count": null,
   "metadata": {},
   "outputs": [],
   "source": []
  },
  {
   "cell_type": "code",
   "execution_count": null,
   "metadata": {},
   "outputs": [],
   "source": []
  },
  {
   "cell_type": "code",
   "execution_count": null,
   "metadata": {},
   "outputs": [],
   "source": []
  },
  {
   "cell_type": "code",
   "execution_count": null,
   "metadata": {},
   "outputs": [],
   "source": []
  },
  {
   "cell_type": "code",
   "execution_count": null,
   "metadata": {},
   "outputs": [],
   "source": []
  }
 ],
 "metadata": {
  "kernelspec": {
   "display_name": "Python 3 (ipykernel)",
   "language": "python",
   "name": "python3"
  },
  "language_info": {
   "codemirror_mode": {
    "name": "ipython",
    "version": 3
   },
   "file_extension": ".py",
   "mimetype": "text/x-python",
   "name": "python",
   "nbconvert_exporter": "python",
   "pygments_lexer": "ipython3",
   "version": "3.10.9"
  }
 },
 "nbformat": 4,
 "nbformat_minor": 4
}

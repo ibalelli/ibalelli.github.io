{
 "cells": [
  {
   "cell_type": "markdown",
   "metadata": {},
   "source": [
    "# <center>**TP4**</center>"
   ]
  },
  {
   "cell_type": "markdown",
   "metadata": {},
   "source": [
    "## **Partie I.** Régression non paramètrique - k-plus-proches-voisins."
   ]
  },
  {
   "cell_type": "code",
   "execution_count": null,
   "metadata": {},
   "outputs": [],
   "source": [
    "# imports\n",
    "\n",
    "import numpy as np # linear algebra\n",
    "import pandas as pd\n",
    "# libraries and options for plots\n",
    "import seaborn as sns\n",
    "import matplotlib.pyplot as plt\n",
    "plt.style.use('ggplot')"
   ]
  },
  {
   "cell_type": "markdown",
   "metadata": {},
   "source": [
    "Pour cet exemple, nous allons considérer des données générées, de sorte à avoir une vérité terrain bien établie, et donc vérifier plus aisement la qualité de l'estimation obtenue.\n",
    "\n",
    "En particulier on va nous intéresser aux comportement d'une variable $Y$ qui dépend d'une autre variable $X$, sélon la fonction suivante :\n",
    "$$\n",
    "g(x) = 3\\cos(x/2)+x^{2/5} +3\n",
    "$$\n",
    "\n",
    "**1.** Ecrire une fonction qui permette de calucler $g(x)$ pour tout point $x$ réel. Representer cette fonction sur une figure dans l'intervalle `[0,10]`."
   ]
  },
  {
   "cell_type": "code",
   "execution_count": null,
   "metadata": {},
   "outputs": [],
   "source": []
  },
  {
   "cell_type": "markdown",
   "metadata": {},
   "source": [
    "**2.** Générer `N=200` points $x_i$ aléatoires dans l'intervalle [0,10], évaluer ensuite les $y_i$ corréspondantes à l'aide de la fonction $g(x)$ et rajouter à chaque $y_i$ obtenue de manière déterministe, un bruit gaussien, centré et de déviation standard $\\sigma=2$. Dans une même figure, reporter $g(x)$ et les données générées."
   ]
  },
  {
   "cell_type": "code",
   "execution_count": null,
   "metadata": {},
   "outputs": [],
   "source": []
  },
  {
   "cell_type": "code",
   "execution_count": null,
   "metadata": {},
   "outputs": [],
   "source": []
  },
  {
   "cell_type": "code",
   "execution_count": null,
   "metadata": {},
   "outputs": [],
   "source": []
  },
  {
   "cell_type": "markdown",
   "metadata": {},
   "source": [
    "Dans ce TP nous allons travailler avec des [`classes`](https://docs.python.org/fr/3/tutorial/classes.html), un objet python qui permet de réunir plusieurs fonctionalités (sous forme de fonctions). \n",
    "\n",
    "On initialise une classe `KNNRegression` avec la méthode `__init__`, où nous allons tout d'abord définir les attributs propres de chaque instance de la classe, c.a.d. ce dont nous aurons bésoin à chaque fois pour réaliser la regression. "
   ]
  },
  {
   "cell_type": "code",
   "execution_count": null,
   "metadata": {},
   "outputs": [],
   "source": [
    "class KNNRegression:\n",
    "\n",
    "    def __init__(self,X,Y,k):\n",
    "        # X: independent variable (np.array)\n",
    "        # Y: dependent variable (np.array)\n",
    "        # k: number of neighbors\n",
    "        self.X = X\n",
    "        self.Y = Y\n",
    "        self.k = k"
   ]
  },
  {
   "cell_type": "markdown",
   "metadata": {},
   "source": [
    "Nous allons maintenant définir une class contenante toute fonction nécessaire pour construire le régressogramme à partir de notre échantillon, $(x_i,y_i), i=1,\\dots,N$.\n",
    "\n",
    "**3.** Rajouter à la classe `KNNRegression` les méthodes suivantes :\n",
    "* `fit` pour proporémént réaliser la régression et calculer $\\hat g_k^{KNN}(x)$\n",
    "* `plot_reg` pour representer graphiquement le résultat de la régression"
   ]
  },
  {
   "cell_type": "code",
   "execution_count": null,
   "metadata": {},
   "outputs": [],
   "source": [
    "class KNNRegression:\n",
    "\n",
    "    def __init__(self,X,Y,k):\n",
    "        # X: independent variable (np.array)\n",
    "        # Y: dependent variable (np.array)\n",
    "        # k: number of neighbors\n",
    "        self.X = X\n",
    "        self.Y = Y\n",
    "        self.k = k\n",
    "\n",
    "    def fit(self,x):\n",
    "        # x: np.array\n",
    "        \n",
    "\n",
    "    def plot_reg(self,**kwargs):\n",
    "        # kwargs can be any argument to pass to pyplot.plot\n",
    "\n",
    "        "
   ]
  },
  {
   "cell_type": "markdown",
   "metadata": {},
   "source": [
    "**4.** A l'aide de la classe ``KNNRegression`` estimer $g(x)$ à partir de l'échantillon généré au point **1.**, avec la méthode des k-plus-proches-voisins, et dans une même figure representer le resultat obtenu, la fonction $g(x)$ utilisée pour générer les données et les data. Faites varier le paramètre `k` et commentez. Vous pouvez également observer ce qui ce passe en modifiant la taille de l'échantillon."
   ]
  },
  {
   "cell_type": "code",
   "execution_count": null,
   "metadata": {},
   "outputs": [],
   "source": []
  },
  {
   "cell_type": "markdown",
   "metadata": {},
   "source": [
    "Nous souhaitons maintenant essayer de mieux comprendre la qualité de notre régression. Pour cela, nous pouvons comparer les prédictions versus les vrais $y_i$ observées. En d'autres termes, une fois obtenue la regression, nous allons prédire les données utilisées en entrainement comme si nous ne connaissons pas les $y_i$ correspondantes.\n",
    "\n",
    "**5.** Ajouter dans ``KNNRegression`` les méthodes suivantes :\n",
    "* `residuals`, une fonction qui permette de calculer les résiduels, c.a.d. les différences entre $y_i$ et $\\hat y_i:=\\hat g_k^{KNN}(x_i)$.\n",
    "* `plot_true_vs_predicted`, pour réliser un scatter plot (nouage de points) des couples $(y_i,\\hat y_i)$\n",
    "\n",
    "Réaliser ensuite, pour tous les valeurs k testé à l'étape **4.** :\n",
    "* un histogramme des résiduels pour voir leur distribution.\n",
    "* la comparaison des $y_i$ vrais vs estimés. Mettre en évidence la diagonale principale"
   ]
  },
  {
   "cell_type": "code",
   "execution_count": null,
   "metadata": {},
   "outputs": [],
   "source": []
  },
  {
   "cell_type": "code",
   "execution_count": null,
   "metadata": {},
   "outputs": [],
   "source": []
  },
  {
   "cell_type": "code",
   "execution_count": null,
   "metadata": {},
   "outputs": [],
   "source": []
  }
 ],
 "metadata": {
  "kernelspec": {
   "display_name": "Python 3 (ipykernel)",
   "language": "python",
   "name": "python3"
  },
  "language_info": {
   "codemirror_mode": {
    "name": "ipython",
    "version": 3
   },
   "file_extension": ".py",
   "mimetype": "text/x-python",
   "name": "python",
   "nbconvert_exporter": "python",
   "pygments_lexer": "ipython3",
   "version": "3.10.9"
  }
 },
 "nbformat": 4,
 "nbformat_minor": 4
}

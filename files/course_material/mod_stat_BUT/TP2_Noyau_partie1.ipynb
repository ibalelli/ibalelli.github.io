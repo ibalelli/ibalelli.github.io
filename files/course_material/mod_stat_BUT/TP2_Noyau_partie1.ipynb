{
 "cells": [
  {
   "cell_type": "markdown",
   "metadata": {},
   "source": [
    "# <center>**TP2**</center>"
   ]
  },
  {
   "cell_type": "markdown",
   "metadata": {},
   "source": [
    "## **Partie I.** Estimation à noyau : exemple pratique"
   ]
  },
  {
   "cell_type": "code",
   "execution_count": null,
   "metadata": {},
   "outputs": [],
   "source": [
    "# imports\n",
    "\n",
    "import numpy as np # linear algebra\n",
    "import pandas as pd # datasets\n",
    "# libraries and options for plots\n",
    "import seaborn as sns\n",
    "import matplotlib.pyplot as plt\n",
    "plt.style.use('ggplot')"
   ]
  },
  {
   "cell_type": "markdown",
   "metadata": {},
   "source": [
    "Pour cet exemple, nous allons considérer un nouveau jeu de données, disponible dans la librairie ``sklearn``. Le dataset en question contient les caractéristiques d'un totale de 178 vins (rouge, rosé et blanc). Nous nous intéressons à la distribution de l'inténsité de la couleur, décrit dans la variable ``color_intensity``.\n",
    "\n",
    "**1.** Télécharger le dataset, avec la fonction ``load_wine()`` de ``sklearn.datasets``, et visualiser les premières 5 lignes. Ajouter au dataset la colonne `target`, contenant l'information de groupe (rouge, rosé, blanc). "
   ]
  },
  {
   "cell_type": "code",
   "execution_count": null,
   "metadata": {},
   "outputs": [],
   "source": []
  },
  {
   "cell_type": "markdown",
   "metadata": {},
   "source": [
    "**2.** Visualiser les données en utilisant un histogramme. Stratifier ensuite à l'aide de la variable `target`."
   ]
  },
  {
   "cell_type": "code",
   "execution_count": null,
   "metadata": {},
   "outputs": [],
   "source": []
  },
  {
   "cell_type": "code",
   "execution_count": null,
   "metadata": {},
   "outputs": [],
   "source": []
  },
  {
   "cell_type": "markdown",
   "metadata": {},
   "source": [
    "**3.** Définir l'estimateur de la densité à noyau Gaussien. Dans une même figure, intégrer la densité estimée par histogrammes et par noyau gaussien. Vous pouvez utiliser le même $\\nu$."
   ]
  },
  {
   "cell_type": "code",
   "execution_count": null,
   "metadata": {},
   "outputs": [],
   "source": []
  },
  {
   "cell_type": "code",
   "execution_count": null,
   "metadata": {},
   "outputs": [],
   "source": []
  },
  {
   "cell_type": "markdown",
   "metadata": {},
   "source": [
    "**4.** Faites varier $\\nu$ : qu'est ce que vous observez?"
   ]
  },
  {
   "cell_type": "code",
   "execution_count": null,
   "metadata": {},
   "outputs": [],
   "source": []
  },
  {
   "cell_type": "markdown",
   "metadata": {},
   "source": [
    "Sous Python, deux librairies existent pour réaliser une estiamtion de la densité à noyau, avec une syntaxe très similaire : [``sklearn.neighbors.KernelDensity``](https://scikit-learn.org/stable/modules/generated/sklearn.neighbors.KernelDensity.html#sklearn.neighbors.KernelDensity) et [``statsmodels.nonparametric.KDEMultivariate`` et ``statsmodels.nonparametric.KDEUnivariate``](https://www.statsmodels.org/dev/examples/notebooks/generated/kernel_density.html#The-available-kernel-functions). \n",
    "\n",
    "Je vous propose d'abord d'utiliser ``statsmodel``, nous verrons ensuite aussi la solution proposée par ``sklearn``."
   ]
  },
  {
   "cell_type": "code",
   "execution_count": null,
   "metadata": {},
   "outputs": [],
   "source": [
    "%%capture\n",
    "# The following line needs to be executed just one time, in order to install statsmodel\n",
    "import sys\n",
    "!{sys.executable} -m pip install statsmodels"
   ]
  },
  {
   "cell_type": "code",
   "execution_count": null,
   "metadata": {},
   "outputs": [],
   "source": [
    "%%capture\n",
    "# Ou alors:\n",
    "!pip install statsmodels"
   ]
  },
  {
   "cell_type": "markdown",
   "metadata": {},
   "source": [
    "Tout d'abord, nous allons importer la fonctions souhaitée, et lui donner les datas qu'on souhaite modéliser."
   ]
  },
  {
   "cell_type": "code",
   "execution_count": null,
   "metadata": {},
   "outputs": [],
   "source": [
    "import statsmodels.api as sm\n",
    "from statsmodels.nonparametric.kde import kernel_switch\n",
    "\n",
    "kde = sm.nonparametric.KDEUnivariate(data.color_intensity)"
   ]
  },
  {
   "cell_type": "markdown",
   "metadata": {},
   "source": [
    "Nous pouvons imprimer les noms des kernels proposés. Plus d'info sont disponibles [ici](https://www.statsmodels.org/dev/_modules/statsmodels/nonparametric/kde.html)."
   ]
  },
  {
   "cell_type": "code",
   "execution_count": null,
   "metadata": {},
   "outputs": [],
   "source": [
    "print(kernel_switch.keys())"
   ]
  },
  {
   "cell_type": "markdown",
   "metadata": {},
   "source": [
    "**5.** Reproduire l'estimation par noyau Gaussien obtenue à l'étape **3.** avec `statsmodels`."
   ]
  },
  {
   "cell_type": "code",
   "execution_count": null,
   "metadata": {},
   "outputs": [],
   "source": []
  },
  {
   "cell_type": "code",
   "execution_count": null,
   "metadata": {},
   "outputs": [],
   "source": []
  },
  {
   "cell_type": "markdown",
   "metadata": {},
   "source": [
    "On peut faire la même chose avec ``sklearn``:"
   ]
  },
  {
   "cell_type": "code",
   "execution_count": null,
   "metadata": {},
   "outputs": [],
   "source": [
    "from sklearn.neighbors import KernelDensity\n",
    "\n",
    "kernel = 'gaussian'"
   ]
  },
  {
   "cell_type": "code",
   "execution_count": null,
   "metadata": {},
   "outputs": [],
   "source": [
    "# estimation de densité par noyaux gaussiens\n",
    "np_data = data.color_intensity.to_numpy()[:, np.newaxis]\n",
    "kde = KernelDensity(kernel=kernel, bandwidth=bandwidth).fit(np_data)"
   ]
  },
  {
   "cell_type": "code",
   "execution_count": null,
   "metadata": {},
   "outputs": [],
   "source": [
    "x_plot = np.linspace(0, 14, 1000)[:, np.newaxis]\n",
    "# calcul de la densité pour les données de X_plot\n",
    "density = np.exp(kde.score_samples(x_plot))"
   ]
  },
  {
   "cell_type": "code",
   "execution_count": null,
   "metadata": {},
   "outputs": [],
   "source": [
    "fig = plt.figure(figsize=(12, 5))\n",
    "ax = fig.add_subplot(111)\n",
    "\n",
    "# Create the plot\n",
    "ax.plot(x_plot, density, lw=3, label='Kernel function \"{}\"'.format(kernel))\n",
    "\n",
    "ax= sns.histplot(data=data,\n",
    "                 bins=b, \n",
    "                 stat='density', # Normalize such that the total area of the histogram equals 1\n",
    "                 x='color_intensity',\n",
    "                 # Next arguments are just to have a nice plot\n",
    "                 color=\"skyblue\",\n",
    "                 alpha=.3,\n",
    "                 legend=True)\n",
    "\n",
    "ax.set(xlabel='Color intensity', ylabel='Density')\n",
    "\n",
    "plt.grid(True, zorder=-5)\n",
    "\n",
    "plt.legend(loc='best')\n",
    "\n",
    "plt.tight_layout()"
   ]
  },
  {
   "cell_type": "markdown",
   "metadata": {},
   "source": [
    "**6.** Choisissez une librairie, essayez d'autres noyaux. Quel est leur impact sur l'estimation ?"
   ]
  },
  {
   "cell_type": "code",
   "execution_count": null,
   "metadata": {},
   "outputs": [],
   "source": []
  },
  {
   "cell_type": "markdown",
   "metadata": {},
   "source": [
    "Avec ``sklearn``il est aussi possible de générer des nouvelles données à partir de la densité estimé, pour ensuite les visualiser."
   ]
  },
  {
   "cell_type": "code",
   "execution_count": null,
   "metadata": {},
   "outputs": [],
   "source": [
    "N=500\n",
    "\n",
    "x_g = kde.sample(N)\n",
    "kde2 = KernelDensity(kernel=kernel, bandwidth=bandwidth).fit(x_g)\n",
    "\n",
    "\n",
    "fig = plt.figure()\n",
    "ax = fig.add_subplot(111)\n",
    "ax.plot(x_plot, density, 'k-', label=\"Estimation from observed data\")\n",
    "ax.plot(x_plot, np.exp(kde2.score_samples(x_plot)), 'r-', label=\"Estimation from newly generated data\")\n",
    "ax= sns.histplot(x_g,\n",
    "                 bins=b, \n",
    "                 stat='density', # Normalize such that the total area of the histogram equals 1\n",
    "                 # Next arguments are just to have a nice plot\n",
    "                 alpha=.3)\n",
    "ax.legend(loc='best')\n",
    "ax.set(xlabel='Color intensity', ylabel='Density')\n",
    "plt.show()"
   ]
  },
  {
   "cell_type": "markdown",
   "metadata": {},
   "source": [
    "Nous pouvons également nous intéresser à deux variables, par exemple l'inténsité de la couleur et l'alcohol, et essayer d'estimer leur densité  jointe."
   ]
  },
  {
   "cell_type": "code",
   "execution_count": null,
   "metadata": {},
   "outputs": [],
   "source": [
    "from mpl_toolkits.mplot3d import Axes3D\n",
    "from matplotlib import cm"
   ]
  },
  {
   "cell_type": "code",
   "execution_count": null,
   "metadata": {},
   "outputs": [],
   "source": [
    "# définir la grille pour la visualisation\n",
    "grid_size = 100\n",
    "mx = min(data.color_intensity)\n",
    "Mx = max(data.color_intensity)\n",
    "my = min(data.alcohol)\n",
    "My = max(data.alcohol)\n",
    "xstep = (Mx - mx) / grid_size\n",
    "ystep = (My - my) / grid_size\n",
    "Gx = np.arange(mx, Mx, xstep)\n",
    "Gy = np.arange(my, My, ystep)\n",
    "Gx, Gy = np.meshgrid(Gx, Gy)\n",
    "\n",
    "np_data = np.hstack((data.color_intensity.to_numpy()[:, np.newaxis], data.alcohol.to_numpy()[:, np.newaxis]))"
   ]
  },
  {
   "cell_type": "code",
   "execution_count": null,
   "metadata": {},
   "outputs": [],
   "source": [
    "# définir la largeur de bande pour le noyau\n",
    "bw = nu\n",
    "\n",
    "# estimation, puis calcul densité sur la grille\n",
    "kdet = KernelDensity(kernel='gaussian', bandwidth=bw).fit(np_data)\n",
    "Z = np.exp(kdet.score_samples(np.hstack((\n",
    "                    (Gx.reshape(grid_size*grid_size))[:,np.newaxis],\n",
    "                    (Gy.reshape(grid_size*grid_size)[:,np.newaxis])))))"
   ]
  },
  {
   "cell_type": "code",
   "execution_count": null,
   "metadata": {},
   "outputs": [],
   "source": [
    "# affichage\n",
    "fig = plt.figure(figsize=(15, 10))\n",
    "ax = fig.add_subplot(projection='3d')\n",
    "ax.plot_surface(Gx, Gy, Z.reshape(grid_size,grid_size), rstride=1,\n",
    "                    cstride=1, cmap=cm.coolwarm, linewidth=0, antialiased=True)\n",
    "\n",
    "ax.set(xlabel='Color intensity', ylabel='Alcohol', zlabel = \"Density\")\n",
    "plt.show()"
   ]
  }
 ],
 "metadata": {
  "kernelspec": {
   "display_name": "Python 3 (ipykernel)",
   "language": "python",
   "name": "python3"
  },
  "language_info": {
   "codemirror_mode": {
    "name": "ipython",
    "version": 3
   },
   "file_extension": ".py",
   "mimetype": "text/x-python",
   "name": "python",
   "nbconvert_exporter": "python",
   "pygments_lexer": "ipython3",
   "version": "3.10.9"
  }
 },
 "nbformat": 4,
 "nbformat_minor": 4
}

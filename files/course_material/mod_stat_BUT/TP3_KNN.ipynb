{
 "cells": [
  {
   "cell_type": "markdown",
   "metadata": {},
   "source": [
    "# <center>**TP3**</center>"
   ]
  },
  {
   "cell_type": "markdown",
   "metadata": {},
   "source": [
    "## Estimation par $k$-plus-proches-voisins."
   ]
  },
  {
   "cell_type": "markdown",
   "metadata": {},
   "source": [
    "Dans ce TP, nous allons générer une population de $N$ individus suivant un mélange de 3 Gaussiennes, et en estimer la densité par $k$-plus-proches-voisins."
   ]
  },
  {
   "cell_type": "markdown",
   "metadata": {},
   "source": [
    "Soient $(\\mu_1,\\sigma_1)=(50,10)$, $(\\mu_2,\\sigma_2)=(70,15)$, $(\\mu_3,\\sigma_3)=(80,5)$ les moyennes et déviation standard de trois gaussiennes. \n",
    "\n",
    "**1.** Génerer un échantillon des tailles de $N=500$ individus, généré par un mélange des trois gaussiennes que nous venons de définir, selon les probabilités suivantes: $p_1=0.4, p_2=p_3=0.3$. Representer les données générées à l'aide d'un histogramme."
   ]
  },
  {
   "cell_type": "code",
   "execution_count": null,
   "metadata": {},
   "outputs": [],
   "source": []
  },
  {
   "cell_type": "code",
   "execution_count": null,
   "metadata": {},
   "outputs": [],
   "source": []
  },
  {
   "cell_type": "code",
   "execution_count": null,
   "metadata": {},
   "outputs": [],
   "source": []
  },
  {
   "cell_type": "markdown",
   "metadata": {},
   "source": [
    "**2.** Définir une fonction `f_hat_KNN` qui retourne pour chaque $x\\in\\mathbb R$ la valeur de la densité estimé $\\hat f_k^{\\mathrm{KNN}}(x)$, pour un $k$ donnée."
   ]
  },
  {
   "cell_type": "code",
   "execution_count": null,
   "metadata": {},
   "outputs": [],
   "source": []
  },
  {
   "cell_type": "markdown",
   "metadata": {},
   "source": [
    "**3.** A partir de l'échantillon généré, et à l'aide de `f_hat_KNN`, estimer sa densité avec la méthode des $k$-plus-proches-voisins, pour plusieurs valeurs de $k$ dans l'intervalle $[1,50]$. Répresenter les densités obtenues contre la densité réelle, et commenter."
   ]
  },
  {
   "cell_type": "code",
   "execution_count": null,
   "metadata": {},
   "outputs": [],
   "source": []
  },
  {
   "cell_type": "markdown",
   "metadata": {},
   "source": [
    "## Classification par $k$-plus-proches-voisins."
   ]
  },
  {
   "cell_type": "markdown",
   "metadata": {},
   "source": [
    "Dans cette partie nous allons utiliser la fonction [`KNeighborsClassifier`](https://scikit-learn.org/stable/modules/generated/sklearn.neighbors.KNeighborsClassifier.html#sklearn.neighbors.KNeighborsClassifier) de `sklearn.neighbors`.\n",
    "\n",
    "**1.** Reprendre le dataset généré dans la première partie de ce TP, organiser les données en `pandas.Dataframe` et associer dans une colonne `Label` la valeur `0` pour tout $x$ tirée de la première Gaussienne, `1` si $x$ est tirée de la deuxième, `2` si $x$ est tirée de la troisième. Representer sur un figure l'histogrammes des données ainsi obtenues, en stratifiant par rapport au label."
   ]
  },
  {
   "cell_type": "code",
   "execution_count": null,
   "metadata": {},
   "outputs": [],
   "source": []
  },
  {
   "cell_type": "code",
   "execution_count": null,
   "metadata": {},
   "outputs": [],
   "source": []
  },
  {
   "cell_type": "markdown",
   "metadata": {},
   "source": [
    "**2.** Utiliser `KNeighborsClassifier` avec $k=2, 5, 10, 20$ pour estimer la classe des 10 nouveaux élements tirés de chacune des trois gaussiennes de départ."
   ]
  },
  {
   "cell_type": "code",
   "execution_count": null,
   "metadata": {},
   "outputs": [],
   "source": []
  },
  {
   "cell_type": "code",
   "execution_count": null,
   "metadata": {},
   "outputs": [],
   "source": []
  }
 ],
 "metadata": {
  "kernelspec": {
   "display_name": "Python 3 (ipykernel)",
   "language": "python",
   "name": "python3"
  },
  "language_info": {
   "codemirror_mode": {
    "name": "ipython",
    "version": 3
   },
   "file_extension": ".py",
   "mimetype": "text/x-python",
   "name": "python",
   "nbconvert_exporter": "python",
   "pygments_lexer": "ipython3",
   "version": "3.10.9"
  }
 },
 "nbformat": 4,
 "nbformat_minor": 4
}

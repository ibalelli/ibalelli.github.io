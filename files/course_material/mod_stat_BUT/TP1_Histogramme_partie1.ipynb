{
 "cells": [
  {
   "cell_type": "markdown",
   "metadata": {},
   "source": [
    "# <center>**TP1**</center>"
   ]
  },
  {
   "cell_type": "markdown",
   "metadata": {},
   "source": [
    "## **Partie I.** Estimation par histogramme."
   ]
  },
  {
   "cell_type": "markdown",
   "metadata": {},
   "source": [
    "Dans ce TP, nous allons considérer une population de $N$ personnes adultes, hommes et femmes. L'objectif est d'estimer la densité de probabilité qui définie la taille de cette population, mesurée en cm, en utilisant l'estimation par histogrammes.\n",
    "\n",
    "Pour se placer dans un cadre \"controlé\" nous allons simuler ces données, à partir de deux distribution normales correspondantes aux deux sous-populations representées dans notre échantillon : les femmes et les hommes. Nous pourrons ainsi comparer nos résultats à la \"vrai\" distribution, que dans ce cas spécifique est pour nous connues."
   ]
  },
  {
   "cell_type": "code",
   "execution_count": null,
   "metadata": {},
   "outputs": [],
   "source": [
    "# imports\n",
    "\n",
    "import numpy as np # linear algebra\n",
    "# libraries and options for plots\n",
    "import seaborn as sns\n",
    "import matplotlib.pyplot as plt\n",
    "plt.style.use('ggplot')"
   ]
  },
  {
   "cell_type": "markdown",
   "metadata": {},
   "source": [
    "Soit $\\mu=178$ et $\\sigma=6$ la moyenne et déviation standard de la distribution Gaussienne définissant la sous-population \"hommes\", et $\\mu=162$ et $\\sigma=7$ la moyenne et déviation standard de la distribution Gaussienne définissant la sous-population \"femmes\".\n",
    "\n",
    "Pour simuler nos données, vous pouvez utiliser [`scipy.stats`](https://docs.scipy.org/doc/scipy/tutorial/stats.html), et en particulier [`scipy.stats.norm`](https://docs.scipy.org/doc/scipy/reference/generated/scipy.stats.norm.html), vu que nous nous intéressons ici à des distribution Gaussiennes (un mélange, pour être précis).\n",
    "\n",
    "**1.** Génerer un échantillon des tailles de $N$ individus, hommes et femmes dans la même proportion. Choisissez $N$ assez grand ($N=200$ par exemple)."
   ]
  },
  {
   "cell_type": "code",
   "execution_count": null,
   "metadata": {},
   "outputs": [],
   "source": [
    "from scipy.stats import norm\n",
    "\n",
    "# Définir ici les paramètres pour chaque souspopulation, et le nombre d'observations à générer\n",
    "\n",
    "\n",
    "\n",
    "\n",
    "\n",
    "\n",
    "\n",
    "\n",
    "print(f'Nous disposons d\\'un échantillon de {N} individus, dont {N_w} femmes et {N_m} hommes.')\n",
    "\n",
    "# Génerer l'échantillon à l'aide de la fonction norm.rsv (voir la doc de scipy.stats.norm)\n",
    "\n",
    "\n",
    "\n",
    "\n",
    "\n",
    "\n",
    "\n",
    "print(f'Les observations disponibles sont comprises dans l\\'intervalle [{round(min_x,2)},{round(max_x,2)}].')"
   ]
  },
  {
   "cell_type": "markdown",
   "metadata": {},
   "source": [
    "Nous allons maintenant estimer la densité des données générés par histogrammes. Pour cela il faut suivre les trois étapes vu en cours, et notamment fixer $m$, $l$ et $b$.\n",
    "\n",
    "**2.** Définir l'intervalle $[m,m+l]$ (hypothèse de support), et le nombre total d'intérvalles que vous souhaitez considerer. Définir ensuite la discrétisation de $[m,m+l]$ par intervalles de même taille."
   ]
  },
  {
   "cell_type": "code",
   "execution_count": null,
   "metadata": {},
   "outputs": [],
   "source": [
    "\n",
    "\n",
    "# Pour définir les intervalles, vous pouvez utiliser la fonction linespace de numpy\n"
   ]
  },
  {
   "cell_type": "markdown",
   "metadata": {},
   "source": [
    "**3.** Génerer l'histogramme corréspondant à l'échanitllon généré et les intervalles fixé à l'étape **2.**\n",
    "\n",
    "Pour cela, vous pouvez utiliser la fonction [histplot](https://seaborn.pydata.org/generated/seaborn.histplot.html) (de [seaborn](https://seaborn.pydata.org/index.html), une librarie python pour la visualisation des données)."
   ]
  },
  {
   "cell_type": "code",
   "execution_count": null,
   "metadata": {},
   "outputs": [],
   "source": [
    "fig, ax = plt.subplots(1, 1)\n",
    "\n",
    "# Histogram\n",
    "ax= sns.histplot(###\n",
    "                 color=\"skyblue\",\n",
    "                 alpha=.5)\n",
    "\n",
    "# On peut aussi visualiser les data sur la même figure:\n",
    "ax.scatter(x,[0] * len(x),marker='x',color='r',label='données observées, $x_i$')\n",
    "ax.set(xlabel='Heights', ylabel='Count')\n",
    "ax.set_ylim(bottom=-1)\n",
    "ax.legend(loc='best', frameon=False)"
   ]
  },
  {
   "cell_type": "markdown",
   "metadata": {},
   "source": [
    "Vérifiez l'axe des ordonnées, et assurez vous que vous êtes bien en train d'observer une distribution."
   ]
  },
  {
   "cell_type": "code",
   "execution_count": null,
   "metadata": {},
   "outputs": [],
   "source": []
  },
  {
   "cell_type": "markdown",
   "metadata": {},
   "source": [
    "**4.** Explorez les différentes options que la fonction ``histplot`` fournit pour définir les \"bins\". Notamment, nous avons pour l'instant donné \"à la main\" les limites de chaque intervalle (contenus dans la liste ``bins``). D'autres options pour obtenir les même résultats sont possibles, grâce aux argumesnt ``bins``, ``binwidth``, ``binrange``."
   ]
  },
  {
   "cell_type": "code",
   "execution_count": null,
   "metadata": {},
   "outputs": [],
   "source": []
  },
  {
   "cell_type": "markdown",
   "metadata": {},
   "source": [
    "**5.** Faites varier le nombre de bins. Qu'est ce qu'on observe ?"
   ]
  },
  {
   "cell_type": "code",
   "execution_count": null,
   "metadata": {},
   "outputs": [],
   "source": []
  },
  {
   "cell_type": "markdown",
   "metadata": {},
   "source": [
    "**6.** Faites varier aussi la taille de l'échantillon, ainsi que la proportion d'hommes et femmes dans l'échantillon. Qu'est qu'on peut en conclure."
   ]
  },
  {
   "cell_type": "code",
   "execution_count": null,
   "metadata": {},
   "outputs": [],
   "source": []
  },
  {
   "cell_type": "markdown",
   "metadata": {},
   "source": [
    "Nous allons enfin à observer comment les deux populations sont distribuées, en supposant connaitre le sexe de chaque participant. Nous allons aussi visualser la \"vraie\" densité de probabilité utilisée pour simuler les données, ainsi que la distribution estimé par histogramme. "
   ]
  },
  {
   "cell_type": "markdown",
   "metadata": {},
   "source": [
    "**7.** A  partir de l'échantillon généré, définir un dataset avec deux colonnes, la première `'Taille'` contenant la taille mésurée pour chaque individu, et la deuxième `'Sexe'` contenant l'information de groupe. \n",
    "\n",
    "Pour cela vous pouvez utiliser la libraire [`pandas`](https://pandas.pydata.org)."
   ]
  },
  {
   "cell_type": "code",
   "execution_count": null,
   "metadata": {},
   "outputs": [],
   "source": [
    "import pandas as pd # Library for dataset manipulation\n",
    "\n",
    "\n",
    "df = pd.concat([df_men, df_women], ignore_index=True)\n",
    "\n",
    "print(df.head())"
   ]
  },
  {
   "cell_type": "markdown",
   "metadata": {},
   "source": [
    "**8** Génerer l'histogramme en stratifiant les données (vous pouvez utiliser `hue` dans le `sns.histplot`). Comparé la densité estimé et la vrai densité (utilisé `norm.pdf` de `scipy.stats`). Commenter."
   ]
  },
  {
   "cell_type": "code",
   "execution_count": null,
   "metadata": {},
   "outputs": [],
   "source": [
    "fig, ax = plt.subplots(1, 1)\n",
    "\n",
    "# Histogram, dividing men vs women\n",
    "ax= sns.histplot(##\n",
    "                 # Next arguments are just to have a nice plot\n",
    "                 palette=[\"blue\",\"red\"],\n",
    "                 alpha=.3)\n",
    "\n",
    "\n",
    "\n",
    "\n",
    "\n",
    "# We plot the observed datapoints on the x axis\n",
    "ax.scatter(men,[0] * len(men),marker='x',color='b',label='données observées, hommes')\n",
    "ax.scatter(women,[0] * len(women),marker='x',color='r',label='données observées, femmes')\n",
    "\n",
    "# And the estimated density\n",
    "nu = l/b\n",
    "bins = np.linspace(m, m+l, b+1)\n",
    "counts = df['Height'].value_counts(bins=bins, sort=False)\n",
    "f_hat = [0]+[count_i/(N*nu) for count_i in counts]\n",
    "sns.lineplot(x=bins,y=f_hat, drawstyle='steps-pre', color='k', label='Densité estimée')\n",
    "\n",
    "# Ici, ajouter le plot de la \"vraie\" distribution\n",
    "\n",
    "\n",
    "\n",
    "\n",
    "\n",
    "\n",
    "\n",
    "ax.set(xlabel='Heights', ylabel='Density')\n",
    "ax.set_ylim(bottom=-.002)\n",
    "ax.legend(loc='upper left', bbox_to_anchor=(1, 0.5))"
   ]
  },
  {
   "cell_type": "markdown",
   "metadata": {},
   "source": [
    "A nouveau, vous pouvez remarquer que la variation du nombre des bins, et de la taille de l'échantillon aura un effet sur cette estimation."
   ]
  },
  {
   "cell_type": "code",
   "execution_count": null,
   "metadata": {},
   "outputs": [],
   "source": []
  },
  {
   "cell_type": "code",
   "execution_count": null,
   "metadata": {},
   "outputs": [],
   "source": []
  }
 ],
 "metadata": {
  "kernelspec": {
   "display_name": "Python 3 (ipykernel)",
   "language": "python",
   "name": "python3"
  },
  "language_info": {
   "codemirror_mode": {
    "name": "ipython",
    "version": 3
   },
   "file_extension": ".py",
   "mimetype": "text/x-python",
   "name": "python",
   "nbconvert_exporter": "python",
   "pygments_lexer": "ipython3",
   "version": "3.10.9"
  }
 },
 "nbformat": 4,
 "nbformat_minor": 4
}

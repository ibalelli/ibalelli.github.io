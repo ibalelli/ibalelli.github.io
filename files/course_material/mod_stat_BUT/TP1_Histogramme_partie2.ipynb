{
 "cells": [
  {
   "cell_type": "markdown",
   "metadata": {},
   "source": [
    "# <center>**TP1**</center>"
   ]
  },
  {
   "cell_type": "markdown",
   "metadata": {},
   "source": [
    "## **Partie II.** Fenêtre optimale par validation croisée"
   ]
  },
  {
   "cell_type": "markdown",
   "metadata": {},
   "source": [
    "Dans cette partie, nous allons determiner la fenêtre optimale pour l'exemple donnée. Pour cela, nous allons implémenter la méthode vu en cours."
   ]
  },
  {
   "cell_type": "code",
   "execution_count": null,
   "metadata": {},
   "outputs": [],
   "source": [
    "# imports\n",
    "\n",
    "import numpy as np # linear algebra\n",
    "# libraries and options for plots\n",
    "import seaborn as sns\n",
    "import matplotlib.pyplot as plt\n",
    "plt.style.use('ggplot')"
   ]
  },
  {
   "cell_type": "markdown",
   "metadata": {},
   "source": [
    "**0.** Généré des données àléatoires à partir d'un mélange de 2 (ou plus) gaussiènnes, comme vu dans le TP1, partie 1 (vous pouvez utiliser les mêmes données ou changer leur distribution, voir le nombre de composantes)."
   ]
  },
  {
   "cell_type": "code",
   "execution_count": null,
   "metadata": {},
   "outputs": [],
   "source": []
  },
  {
   "cell_type": "markdown",
   "metadata": {},
   "source": [
    "**1.** Implementer une fonction `J_hat` qui calcule l'estimateur $\\hat J$ de $J$, pour des $N, \\nu, \\hat p_j$ données."
   ]
  },
  {
   "cell_type": "code",
   "execution_count": null,
   "metadata": {},
   "outputs": [],
   "source": [
    "# Function to evaluate the estimator J hat\n",
    "\n",
    "def J_hat(\n",
    "    ###\n",
    "            ):\n",
    "\n",
    "    \n",
    "\n",
    "    return J"
   ]
  },
  {
   "cell_type": "markdown",
   "metadata": {},
   "source": [
    "**2.** Implementer une deuxième function, `optimal_window_CV`, pour calculer le nombre de bins $b_{CV}$ optimale, à l'aide de `J_hat`. La fonction doit rendre en sortie, $b_{CV}$, $\\nu_{CV}$ et une list contenant les valeurs de $\\hat J$ calculés à chaque itération."
   ]
  },
  {
   "cell_type": "code",
   "execution_count": null,
   "metadata": {},
   "outputs": [],
   "source": [
    "def optimal_window_CV(\n",
    "    ###\n",
    "            ):\n",
    "\n",
    "    return b_CV, l/b_CV, J_list"
   ]
  },
  {
   "cell_type": "markdown",
   "metadata": {},
   "source": [
    "**3.** A l'aide de la fonction `optimal_window_CV` calculer la fenêtre optimale pour les données générés dans la première partie du TP. Tracer ensuite l'histogramme corréspondant, la densité estimée, et la vraie distribution. Tracez également l'évolution de $\\hat J$ pendant son optimisation. Commentez."
   ]
  },
  {
   "cell_type": "code",
   "execution_count": null,
   "metadata": {},
   "outputs": [],
   "source": [
    "b_CV, nu_CV, J_list = \n",
    "\n",
    "print(f'Le nombre optimale d\\'intervalles est {b_CV}')\n",
    "\n",
    "fig, ax = plt.subplots(1, 2)\n",
    "fig.tight_layout()\n",
    "\n",
    "# Premier plot (histogramme+densité estimée+densité réelle)\n",
    "ax1 = plt.subplot(1,2,1) \n",
    "bins = np.linspace(m, m+l, b_CV+1)\n",
    "\n",
    "ax1= sns.histplot(\n",
    "    \n",
    "                )\n",
    "\n",
    "\n",
    "\n",
    "\n",
    "\n",
    "\n",
    "ax1.set(xlabel='Heights', ylabel='Density')\n",
    "ax1.set_ylim(bottom=-.002)\n",
    "\n",
    "\n",
    "# Deuxième plot (J_list vs b)\n",
    "ax2 = plt.subplot(1,2,2)\n",
    "\n",
    "\n",
    "\n",
    "ax2.set(xlabel='Number of bins', ylabel='$\\hat{J}$')"
   ]
  },
  {
   "cell_type": "markdown",
   "metadata": {},
   "source": [
    "**4.** Qu'est ce qu'il se passe en modifiant l'échantillon (mêmes effectifs mais un autre tirage) ? "
   ]
  },
  {
   "cell_type": "code",
   "execution_count": null,
   "metadata": {},
   "outputs": [],
   "source": []
  },
  {
   "cell_type": "markdown",
   "metadata": {},
   "source": [
    "**Bonus.** Définir l'estimateur de la densité $\\hat f_{\\nu}^{U}$, ou chaque mesure est le centre d'un intervalle. Combiner dans une même figure cet estimateur, l'estimateur par histogrammes obtenu avec le nombre d'intervalles optimale $\\hat f_{\\nu_{CV}}^{\\mathrm{Hist}}$, et la vraie distribution. Faire varier ensuite la taille de l'échantillon et $\\nu$ pour en observer les effets sur le densités estimées."
   ]
  },
  {
   "cell_type": "code",
   "execution_count": null,
   "metadata": {},
   "outputs": [],
   "source": []
  }
 ],
 "metadata": {
  "kernelspec": {
   "display_name": "Python 3 (ipykernel)",
   "language": "python",
   "name": "python3"
  },
  "language_info": {
   "codemirror_mode": {
    "name": "ipython",
    "version": 3
   },
   "file_extension": ".py",
   "mimetype": "text/x-python",
   "name": "python",
   "nbconvert_exporter": "python",
   "pygments_lexer": "ipython3",
   "version": "3.10.9"
  }
 },
 "nbformat": 4,
 "nbformat_minor": 4
}

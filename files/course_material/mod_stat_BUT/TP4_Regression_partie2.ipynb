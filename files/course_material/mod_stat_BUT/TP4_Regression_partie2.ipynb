{
 "cells": [
  {
   "cell_type": "markdown",
   "metadata": {},
   "source": [
    "# <center>**TP4**</center>"
   ]
  },
  {
   "cell_type": "markdown",
   "metadata": {},
   "source": [
    "## **Partie II.** Régression non paramètrique - Régressogramme et noyaux."
   ]
  },
  {
   "cell_type": "markdown",
   "metadata": {},
   "source": [
    "L'objectif de cette deuxième partie est de implementer la régression par régressogramme et par noyaux, et comparer les différents résultats.\n",
    "\n",
    "Nous allons à nouveau considérer des données générées."
   ]
  },
  {
   "cell_type": "code",
   "execution_count": null,
   "metadata": {},
   "outputs": [],
   "source": [
    "# imports\n",
    "\n",
    "import numpy as np # linear algebra\n",
    "import pandas as pd\n",
    "# libraries and options for plots\n",
    "import seaborn as sns\n",
    "import matplotlib.pyplot as plt\n",
    "plt.style.use('ggplot')"
   ]
  },
  {
   "cell_type": "markdown",
   "metadata": {},
   "source": [
    "Soit $Y$ un variable qui dépend de $X$, sélon la fonction suivante :\n",
    "$$\n",
    "g(x) = x\\sin(\\exp(x)/100)+10\n",
    "$$\n",
    "\n",
    "**1.** Ecrire une fonction qui permette de calucler $g(x)$ pour tout point $x$ réel. Representer cette fonction sur une figure dans l'intervalle `[0,6]`."
   ]
  },
  {
   "cell_type": "code",
   "execution_count": null,
   "metadata": {},
   "outputs": [],
   "source": []
  },
  {
   "cell_type": "markdown",
   "metadata": {},
   "source": [
    "**2.** Générer `N=200` points $x_i$ aléatoires dans l'intervalle [0,6], évaluer ensuite les $y_i$ corréspondantes à l'aide de la fonction $g(x)$ et rajouter à chaque $y_i$ obtenue de manière déterministe, un bruit gaussien, centré réduit. Dans une même figure, reporter $g(x)$ et les données générées."
   ]
  },
  {
   "cell_type": "code",
   "execution_count": null,
   "metadata": {},
   "outputs": [],
   "source": []
  },
  {
   "cell_type": "markdown",
   "metadata": {},
   "source": [
    "**3.** Implementer une classe `Regressogram` qui permette de réaliser un régressogramme à partir d'un échantillon composé de couples d'observations $(x_i,y_i)$. Inclure les methodes considérées pour le cas des k-plus-proches-voisins."
   ]
  },
  {
   "cell_type": "code",
   "execution_count": null,
   "metadata": {},
   "outputs": [],
   "source": []
  },
  {
   "cell_type": "markdown",
   "metadata": {},
   "source": [
    "**4.** Utiliser ``Regressogram`` pour construire le régressogramme à partir des données générées. Faire varier le nombre d'intervalles et commenter. "
   ]
  },
  {
   "cell_type": "code",
   "execution_count": null,
   "metadata": {},
   "outputs": [],
   "source": []
  },
  {
   "cell_type": "markdown",
   "metadata": {},
   "source": [
    "**5.** Définir une nouvelle ``class``, `KRegression`, qui permette de réaliser une régression par noyaux, en utilisant le noyaux gaussien. Testez-la sur les données que vous avez généré, en faisant varier la taille de la fenêtre $\\nu$."
   ]
  },
  {
   "cell_type": "code",
   "execution_count": null,
   "metadata": {},
   "outputs": [],
   "source": []
  },
  {
   "cell_type": "code",
   "execution_count": null,
   "metadata": {},
   "outputs": [],
   "source": []
  },
  {
   "cell_type": "markdown",
   "metadata": {},
   "source": [
    "**6.** Comparer la qualité des deux régressions obtenues aux points **4.** et **5.**"
   ]
  },
  {
   "cell_type": "code",
   "execution_count": null,
   "metadata": {},
   "outputs": [],
   "source": []
  },
  {
   "cell_type": "markdown",
   "metadata": {},
   "source": [
    "Nous allons maintenant regarder ce qui se passe avec un nouveau jeu de données, généré à partir de la même fonction $g(x)$.\n",
    "\n",
    "**7.** Reprendre la classe implementée dans la feuille précedente (k-plus-proches-voisins) et générer la regression correspondante (à vous le choix d'un k qui vous semble raisonnable). "
   ]
  },
  {
   "cell_type": "code",
   "execution_count": null,
   "metadata": {},
   "outputs": [],
   "source": []
  },
  {
   "cell_type": "code",
   "execution_count": null,
   "metadata": {},
   "outputs": [],
   "source": []
  },
  {
   "cell_type": "markdown",
   "metadata": {},
   "source": [
    "**8.** Générer 20 nouveaux points dans l'intervalle `[0.8]` et vérifier la qualité des prédctions obtenues avec les trois méthodes testées. Qu'est ce que l'on peut observer ? Pour quelles données les prédictions sont partculièrement mauvaises ?"
   ]
  },
  {
   "cell_type": "code",
   "execution_count": null,
   "metadata": {},
   "outputs": [],
   "source": []
  },
  {
   "cell_type": "code",
   "execution_count": null,
   "metadata": {},
   "outputs": [],
   "source": []
  },
  {
   "cell_type": "code",
   "execution_count": null,
   "metadata": {},
   "outputs": [],
   "source": []
  },
  {
   "cell_type": "code",
   "execution_count": null,
   "metadata": {},
   "outputs": [],
   "source": []
  },
  {
   "cell_type": "code",
   "execution_count": null,
   "metadata": {},
   "outputs": [],
   "source": []
  }
 ],
 "metadata": {
  "kernelspec": {
   "display_name": "Python 3 (ipykernel)",
   "language": "python",
   "name": "python3"
  },
  "language_info": {
   "codemirror_mode": {
    "name": "ipython",
    "version": 3
   },
   "file_extension": ".py",
   "mimetype": "text/x-python",
   "name": "python",
   "nbconvert_exporter": "python",
   "pygments_lexer": "ipython3",
   "version": "3.10.9"
  }
 },
 "nbformat": 4,
 "nbformat_minor": 4
}
